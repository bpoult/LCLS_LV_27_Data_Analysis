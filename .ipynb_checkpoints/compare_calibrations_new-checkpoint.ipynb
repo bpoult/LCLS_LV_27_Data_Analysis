{
 "cells": [
  {
   "cell_type": "code",
   "execution_count": 5,
   "metadata": {},
   "outputs": [],
   "source": [
    "##### This notebook is still buggy for looking at more than one set per calibration run. \n",
    "##### It should work fine for only set_0 in each cell. I can make it more user friendly eventually\n",
    "\n",
    "%reset -sf\n",
    "import numpy as np\n",
    "import psana as ps\n",
    "import matplotlib.pyplot as plt\n",
    "import sys\n",
    "import time\n",
    "import pickle\n",
    "import os\n",
    "from Functions import *\n",
    "from raw_data_class import RawData as RDC\n",
    "from Functions.plot_average import gather_shots\n",
    "from processed_data_class import processed_data_class as PDC\n",
    "%matplotlib notebook\n",
    "import warnings\n",
    "warnings.filterwarnings('ignore')\n"
   ]
  },
  {
   "cell_type": "code",
   "execution_count": 6,
   "metadata": {
    "scrolled": false
   },
   "outputs": [
    {
     "name": "stdout",
     "output_type": "stream",
     "text": [
      "Loaded processed_data for run run_206\n",
      "Loaded processed_data for run run_207\n",
      "Loaded processed_data for run run_208\n",
      "Loaded processed_data for run run_190\n",
      "Loaded processed_data for run run_192\n",
      "Loaded processed_data for run run_194\n",
      "Loaded processed_data for run run_196\n",
      "Loaded processed_data for run run_198\n",
      "Loaded processed_data for run run_200\n",
      "Loaded processed_data for run run_202\n",
      "Loaded processed_data for run run_204\n",
      "Loaded processed_data for run run_191\n",
      "Loaded processed_data for run run_193\n",
      "Loaded processed_data for run run_195\n",
      "Loaded processed_data for run run_197\n",
      "Loaded processed_data for run run_199\n",
      "Loaded processed_data for run run_201\n",
      "Loaded processed_data for run run_203\n",
      "Loaded processed_data for run run_205\n"
     ]
    },
    {
     "ename": "NameError",
     "evalue": "name 'pro_datas1' is not defined",
     "output_type": "error",
     "traceback": [
      "\u001b[0;31m---------------------------------------------------------------------------\u001b[0m",
      "\u001b[0;31mNameError\u001b[0m                                 Traceback (most recent call last)",
      "\u001b[0;32m<ipython-input-6-47d5972e24de>\u001b[0m in \u001b[0;36m<module>\u001b[0;34m\u001b[0m\n\u001b[1;32m     60\u001b[0m \u001b[0;34m\u001b[0m\u001b[0m\n\u001b[1;32m     61\u001b[0m \u001b[0;34m\u001b[0m\u001b[0m\n\u001b[0;32m---> 62\u001b[0;31m \u001b[0mcomp_plot_pro\u001b[0m\u001b[0;34m.\u001b[0m\u001b[0mplot_lots_comp\u001b[0m\u001b[0;34m(\u001b[0m\u001b[0mpro_datas1\u001b[0m\u001b[0;34m,\u001b[0m\u001b[0minput_vars1\u001b[0m\u001b[0;34m,\u001b[0m\u001b[0mpro_datas\u001b[0m\u001b[0;34m,\u001b[0m\u001b[0minput_vars\u001b[0m\u001b[0;34m,\u001b[0m\u001b[0mtxt2\u001b[0m\u001b[0;34m,\u001b[0m\u001b[0mpro_datas2\u001b[0m\u001b[0;34m,\u001b[0m\u001b[0minput_vars2\u001b[0m\u001b[0;34m)\u001b[0m\u001b[0;34m\u001b[0m\u001b[0;34m\u001b[0m\u001b[0m\n\u001b[0m",
      "\u001b[0;31mNameError\u001b[0m: name 'pro_datas1' is not defined"
     ]
    }
   ],
   "source": [
    "### Create sets of variables to compare different calibration runs\n",
    "\n",
    "txt2 = 'T=5fs: 190+ (IF), 191+ (OOF) and T=0fs: 217+ 170+ (IF), 218+ 171+ (OOF) '\n",
    "\n",
    "set_0 = [190,192,194,196,198,200,202,204] # 5 fs in focus\n",
    "set_1 = [191,193,195,197,199,201,203,205] # 5 fs out of focus\n",
    "# set_0 = [178,179,180] # in focus with foil\n",
    "# set_1 = [181,182,183] # out of focus with foil\n",
    "# set_2 = [170,172,174,176,184,186,188] # in focus\n",
    "# set_3 = [171,173,175,177,185,187,189] # out of focus\n",
    "# set_2 = []\n",
    "spec_cal_runs = [[206,207,208]]  # Select runs with no sample in line\n",
    "scans_to_plot = set_0,set_1#,set_2,set_3   #These runs will plot first\n",
    "\n",
    "set_0_comp = [217,219,221,223,225,227,229,231,233] #in focus\n",
    "set_1_comp = [218,220,222,224,226,228,230,232,234] #out of focus\n",
    "# set_2_comp = []\n",
    "spec_cal_runs_comp = [[216]]  # Select runs with no sample in line for comparison\n",
    "scans_to_plot_comp = set_0_comp,set_1_comp,#set_2_comp   #These runs will plot second\n",
    "\n",
    "set_0_comp2 = [170,172,174,176,184,186,188] # in focus\n",
    "set_1_comp2 = [171,173,175,177,185,187,189] # out of focus\n",
    "# set_2_comp = []\n",
    "spec_cal_runs_comp2 = [[166,167]]  # Select runs with no sample in line for comparison\n",
    "scans_to_plot_comp2 = set_0_comp2,set_1_comp2,#set_2_comp2   #These runs will plot Third\n",
    "\n",
    "plot_conds = [True,True,True,True] # epix, xrt, resid, deltaT_T\n",
    "plot_meanwise = True                 # deltaT_T like avg(epix)-avg(xrt))/avg(xrt)\n",
    "plot_shotwise = True                  # deltaT_T like avg[(epix-xrt)/xrt] shot by shot\n",
    "bootstrap = [False,50,1/3]            # how many loops, and what random fraction of data per loop\n",
    "\n",
    "\n",
    "#################################      DON'T WORRY ABOUT THE LINES UNDER THIS ##################################\n",
    "if type(scans_to_plot_comp) is list:\n",
    "    scans_to_plot_comp = np.asarray(scans_to_plot_comp)[np.newaxis,:]\n",
    "# print(type(scans_to_plot))\n",
    "runs_comp = np.append(np.concatenate(spec_cal_runs_comp),np.concatenate(scans_to_plot_comp))\n",
    "runs_comp = runs_comp.tolist()\n",
    "# input_vars1 = [scans_to_plot_comp,spec_cal_runs_comp,runs_comp]\n",
    "pro_datas1 = load_pro.load_pro(runs_comp)\n",
    "\n",
    "if type(scans_to_plot_comp2) is list:\n",
    "    scans_to_plot_comp2 = np.asarray(scans_to_plot_comp2)[np.newaxis,:]\n",
    "# print(type(scans_to_plot))\n",
    "runs_comp2 = np.append(np.concatenate(spec_cal_runs_comp2),np.concatenate(scans_to_plot_comp2))\n",
    "runs_comp2 = runs_comp2.tolist()\n",
    "# input_vars2 = [scans_to_plot_comp2,spec_cal_runs_comp2,runs_comp2]\n",
    "pro_datas2 = load_pro.load_pro(runs_comp2)\n",
    "\n",
    "### create next set of vars\n",
    "\n",
    "if type(scans_to_plot) is list:\n",
    "    scans_to_plot = np.asarray(scans_to_plot)[np.newaxis,:]\n",
    "runs = np.append(np.concatenate(spec_cal_runs),np.concatenate(scans_to_plot))\n",
    "runs = runs.tolist()\n",
    "spec_cal_runs\n",
    "# input_vars = [scans_to_plot,spec_cal_runs,plot_conds,plot_shotwise,plot_meanwise,runs,bootstrap]\n",
    "pro_datas0 = load_pro.load_pro(runs)\n",
    "\n",
    "input_vars = [scans_to_plot_comp,spec_cal_runs_comp,runs_comp,scans_to_plot_comp2,spec_cal_runs_comp2\n",
    "              ,runs_comp2,scans_to_plot,spec_cal_runs,plot_conds,plot_shotwise,plot_meanwise,runs,bootstrap]\n",
    "pro_datas = [pro_datas0,pro_datas1,pro_datas2]\n",
    "\n",
    "comp_plot_pro.plot_lots_comp(pro_datas,input_vars,txt2)\n",
    "\n",
    "\n",
    "# if type(scans_to_plot_comp) is list:\n",
    "#     scans_to_plot_comp = np.asarray(scans_to_plot_comp)[np.newaxis,:]\n",
    "# # print(type(scans_to_plot))\n",
    "# runs_comp = np.append(np.concatenate(spec_cal_runs_comp),np.concatenate(scans_to_plot_comp))\n",
    "# runs_comp = runs_comp.tolist()\n",
    "# input_vars1 = [scans_to_plot_comp,spec_cal_runs_comp,plot_conds,plot_shotwise,plot_meanwise,runs_comp,bootstrap]\n",
    "# pro_datas1 = load_pro.load_pro(runs_comp)\n",
    "\n",
    "# if type(scans_to_plot_comp2) is list:\n",
    "#     scans_to_plot_comp2 = np.asarray(scans_to_plot_comp2)[np.newaxis,:]\n",
    "# # print(type(scans_to_plot))\n",
    "# runs_comp2 = np.append(np.concatenate(spec_cal_runs_comp2),np.concatenate(scans_to_plot_comp2))\n",
    "# runs_comp2 = runs_comp2.tolist()\n",
    "# input_vars2 = [scans_to_plot_comp2,spec_cal_runs_comp2,plot_conds,plot_shotwise,plot_meanwise,runs_comp2,bootstrap]\n",
    "# pro_datas2 = load_pro.load_pro(runs_comp2)\n",
    "\n",
    "# ### create next set of vars\n",
    "\n",
    "# if type(scans_to_plot) is list:\n",
    "#     scans_to_plot = np.asarray(scans_to_plot)[np.newaxis,:]\n",
    "# runs = np.append(np.concatenate(spec_cal_runs),np.concatenate(scans_to_plot))\n",
    "# runs = runs.tolist()\n",
    "# spec_cal_runs\n",
    "# input_vars = [scans_to_plot,spec_cal_runs,plot_conds,plot_shotwise,plot_meanwise,runs,bootstrap]\n",
    "# pro_datas = load_pro.load_pro(runs)\n",
    "\n",
    "\n",
    "\n",
    "# comp_plot_pro.plot_lots_comp(pro_datas1,input_vars1,pro_datas,input_vars,txt2,pro_datas2,input_vars2)"
   ]
  },
  {
   "cell_type": "code",
   "execution_count": 3,
   "metadata": {},
   "outputs": [
    {
     "name": "stdout",
     "output_type": "stream",
     "text": [
      "(['[190, 192, 194, 196, 198, 200, 202, 204]', '[191, 193, 195, 197, 199, 201, 203, 205]'], 'hello')\n"
     ]
    }
   ],
   "source": [
    "# print((str(scans_to_plot[i]) for i in range(0,len(scans_to_plot))))#+' calibration: ')\n",
    "i = 1\n",
    "txt = ([((str(scans_to_plot[i]))) for i in range(0,len(scans_to_plot))], 'hello')\n",
    "print(txt)"
   ]
  },
  {
   "cell_type": "code",
   "execution_count": null,
   "metadata": {},
   "outputs": [],
   "source": [
    "       "
   ]
  }
 ],
 "metadata": {
  "kernelspec": {
   "display_name": "LCLS-I py3",
   "language": "python",
   "name": "ana1-current-py3"
  },
  "language_info": {
   "codemirror_mode": {
    "name": "ipython",
    "version": 3
   },
   "file_extension": ".py",
   "mimetype": "text/x-python",
   "name": "python",
   "nbconvert_exporter": "python",
   "pygments_lexer": "ipython3",
   "version": "3.7.10"
  }
 },
 "nbformat": 4,
 "nbformat_minor": 2
}
