{
 "cells": [
  {
   "cell_type": "code",
   "execution_count": null,
   "metadata": {},
   "outputs": [],
   "source": [
    "# total_I_epix = processed_data.epix_intensity\n",
    "# total_I_xrt = processed_data.xrt_intensity\n",
    "# energy = processed_data.epix_energy_windowed\n",
    "# events = processed_data.eventIDs\n",
    "# epix = processed_data.epix_windowed\n",
    "# xrt = processed_data.xrt_based\n",
    "# epix_avg = np.mean(epix,0)\n",
    "# xrt_avg = np.mean(xrt,0)\n",
    "\n",
    "# epix_norm = epix/np.max(epix_avg)\n",
    "# xrt_norm = xrt/np.max(xrt_avg)\n",
    "# epix_avg_norm = epix_avg/np.max(epix_avg)\n",
    "# xrt_avg_norm = xrt_avg/np.max(xrt_avg)\n",
    "#raw_data=RDC()\n",
    "\n",
    "# epix_rms = np.sqrt(np.mean(np.subtract(epix_avg_norm,epix_norm)**2,1))\n",
    "# xrt_rms = np.sqrt(np.mean(np.subtract(xrt_avg_norm,xrt_norm)**2,1))\n",
    "\n",
    "\n",
    "# # plt.figure()\n",
    "# # runs\n",
    "# for i in range(0,len(runs)):\n",
    "#     print(raw_datas[i].high_diode_us)\n",
    "# [raw_datas[i].changeValue(epix_motor=np.round(raw_datas[i].epix_motor,3)) for i in range(0,len(raw_datas))]\n",
    "##### for i in range(0,len(raw_datas)):\n",
    "    \n",
    "#####     with open(save_dir + raw_datas[i].scan_name + \"/\" + \"rawdata.pkl\", \"wb\") as f:\n",
    "#####         pickle.dump(raw_datas[i], f)\n",
    "# plt.figure()\n",
    "# plt.plot(np.mean(processed_data.epix_norm,0))\n",
    "# plt.plot(np.mean(processed_data.xrt_norm,0))\n",
    "# plt.figure()\n",
    "# plt.plot(np.mean(processed_data.epix_norm))\n",
    "# (processed_data.epix_norm/processed_data.xrt_norm)\n"
   ]
  },
  {
   "cell_type": "code",
   "execution_count": null,
   "metadata": {},
   "outputs": [],
   "source": [
    "# Plotting the processed data\n",
    "# plot_pro      .check_SN(processed_data, On/Off): Starts off with randomizing order of shots.\n",
    "                    # Each data point corresponds to the standard deviation\n",
    "                    # of the mean of x residuals; epix_spectrum-xrt_spectrum.\n",
    "                    # Should give us an idea of how signal/noise improves with averaging.\n",
    "                    # Smoothness of curve could also report on effectiveness of filters.\n",
    "# resid = plot_pro.check_SN(pro_datas[plot_one_idx],True)\n",
    "# plot_pro.plot_one_run(pro_datas[plot_one_idx],True)\n",
    "# plot_pro.plot_average(pro_datas,True)\n",
    "\n",
    "\n",
    "# rms_parameters = [[0.8,1.2],plot_one,False] # [[min_rmse_epix, min_rmse_xrt],plot_all,plot_one]\n",
    "#                                         # plot_one: Run # you want to plot, or 'None'\n",
    "#                                         # plot_all: True or False to plot histograms for each run in pro_datas\n",
    "# suspress_output = True\n",
    "\n",
    "# rms_conditions = [Filters.rms_filter(pro_datas[i],rms_parameters,suspress_output) for i in range(0,len(pro_datas))]\n",
    "\n",
    "# pro_datas = [Filters.apply_rms_filter(pro_datas[i],rms_conditions[i][2]) for i in range(0,len(pro_datas))]"
   ]
  }
 ],
 "metadata": {
  "kernelspec": {
   "display_name": "LCLS-I py3",
   "language": "python",
   "name": "ana1-current-py3"
  },
  "language_info": {
   "codemirror_mode": {
    "name": "ipython",
    "version": 3
   },
   "file_extension": ".py",
   "mimetype": "text/x-python",
   "name": "python",
   "nbconvert_exporter": "python",
   "pygments_lexer": "ipython3",
   "version": "3.7.10"
  }
 },
 "nbformat": 4,
 "nbformat_minor": 2
}
