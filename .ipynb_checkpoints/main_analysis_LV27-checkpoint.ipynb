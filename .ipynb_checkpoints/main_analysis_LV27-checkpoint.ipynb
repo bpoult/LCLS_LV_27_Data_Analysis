{
 "cells": [
  {
   "cell_type": "code",
   "execution_count": 1,
   "metadata": {},
   "outputs": [],
   "source": [
    "import numpy as np\n",
    "import psana as ps\n",
    "import matplotlib.pyplot as plt\n",
    "import sys\n",
    "import time\n",
    "import pickle\n",
    "import os\n",
    "from Functions import *\n",
    "from raw_data_class import RawData as RDC\n",
    "#from processed_data_class import ProData as PDC\n",
    "%matplotlib notebook"
   ]
  },
  {
   "cell_type": "code",
   "execution_count": 6,
   "metadata": {},
   "outputs": [],
   "source": [
    "save_dir = '/cds/home/b/bpoult/LCLS_LV_27_Data_Analysis/sample_data/'\n",
    "calib_dir = '/cds/home/b/bpoult/LCLS_LV_27_Data_Analysis/calibrations/'\n",
    "runs = list(range(207,214)) # goes from first value in range to last - 1\n",
    "epix_roi = [80,140,170,330]\n",
    "xrt_roi = [725,1500]\n",
    "calibration_file = 'calibration_1'\n",
    "\n",
    "\n",
    "# Processing or Loading\n",
    "process_raw = False\n",
    "on_off = True # Do you want to plot the raw data?\n",
    "plot_one = 207\n",
    "x_axis = 'pixels' # 'pixels' or 'energy'"
   ]
  },
  {
   "cell_type": "code",
   "execution_count": 4,
   "metadata": {},
   "outputs": [],
   "source": [
    "# Energy Calibration, plot raw calibration runs with pixel axis and populate these arrays\n",
    "save_cal = False\n",
    "\n",
    "calib_runs = list(range(207,214))\n",
    "notch_energies = [7.06,7.065,7.07,7.075,7.08,7.085,7.09] # keV\n",
    "xrt_pixels = [1474,1385,1297,1216,1131,1048,966] # enter 0 if you can't see the notch\n",
    "epix_pixels = [0,223,236,248,262,274,0] # enter 0 if you can't see the notch\n",
    "\n",
    "labels = ['notch_energies','xrt_pixels','epix_pixels','rois','calibration_dir','calib_runs']\n",
    "rois = [xrt_roi,epix_roi]\n",
    "to_cal_file = [calib_dir, calibration_file]\n",
    "calib_in = [labels, notch_energies,xrt_pixels,epix_pixels,rois,to_cal_file,calib_runs]\n",
    "calib_out = energy_calib.energy_calib(calib_in,save_cal)"
   ]
  },
  {
   "cell_type": "code",
   "execution_count": null,
   "metadata": {
    "scrolled": true
   },
   "outputs": [
    {
     "name": "stdout",
     "output_type": "stream",
     "text": [
      "exp=cxix46119:run=207:smd\n",
      "Data loaded in 159.1 seconds.\n",
      "145 out of 6652 shots had empty values.\n",
      "exp=cxix46119:run=208:smd\n",
      "Data loaded in 255.2 seconds.\n",
      "217 out of 10614 shots had empty values.\n",
      "exp=cxix46119:run=209:smd\n",
      "Data loaded in 168.3 seconds.\n",
      "120 out of 6879 shots had empty values.\n",
      "exp=cxix46119:run=210:smd\n",
      "Data loaded in 184.6 seconds.\n",
      "129 out of 6471 shots had empty values.\n",
      "exp=cxix46119:run=211:smd\n"
     ]
    }
   ],
   "source": [
    "# Raw Data\n",
    "\n",
    "raw_datas = []\n",
    "for run in runs:\n",
    "    scan_name = 'run_' + f'{run:03}'\n",
    "    ds_string = 'exp=cxix46119:run='+str(run)+':smd'\n",
    "    print(ds_string)\n",
    "    if process_raw:\n",
    "        raw_data = load_data.load_data(save_dir,scan_name,ds_string,epix_roi,xrt_roi)\n",
    "    else:\n",
    "        with open(save_dir + scan_name + \"/\" + \"rawdata.pkl\", \"rb\") as f:\n",
    "            raw_data = pickle.load(f)\n",
    "            \n",
    "    raw_datas = raw_datas + [raw_data]\n",
    "\n",
    "plot_raw.plot_raw(raw_datas, plot_one, x_axis, on_off,to_cal_file)\n",
    "\n",
    "plt.figure()\n",
    "plt.imshow(raw_data.avg_epix_2d)\n",
    "plt.show()"
   ]
  },
  {
   "cell_type": "code",
   "execution_count": 73,
   "metadata": {
    "scrolled": true
   },
   "outputs": [],
   "source": [
    "\n",
    "#coords = epix.get()coords_xyz\n",
    "ds_list = [ps.DataSource('exp=cxix46119:run='+str(calib_runs[i])+':smd') for i in range(0,len(calib_runs))]\n"
   ]
  },
  {
   "cell_type": "code",
   "execution_count": 65,
   "metadata": {},
   "outputs": [
    {
     "data": {
      "text/plain": [
       "-9.58758837391989"
      ]
     },
     "execution_count": 65,
     "metadata": {},
     "output_type": "execute_result"
    }
   ],
   "source": [
    "ds = ps.DataSource('exp=cxix46119:run='+str(6)+':smd')\n",
    "r = ps.Detector('CXI:DG2:MMS:10.RBV')\n",
    "r.__call__()"
   ]
  },
  {
   "cell_type": "code",
   "execution_count": 68,
   "metadata": {},
   "outputs": [
    {
     "data": {
      "text/plain": [
       "True"
      ]
     },
     "execution_count": 68,
     "metadata": {},
     "output_type": "execute_result"
    }
   ],
   "source": [
    "all(epix_motor[0] == epix_motor[x] for x in range(0,len(epix_motor)))"
   ]
  },
  {
   "cell_type": "code",
   "execution_count": 60,
   "metadata": {},
   "outputs": [
    {
     "name": "stdout",
     "output_type": "stream",
     "text": [
      "The calibration and the following runs have mismatched epix motor positions: \n",
      "[207, 208, 209, 210, 211, 212, 213]\n"
     ]
    }
   ],
   "source": [
    "check_matching = [epix_motor[i] == calib_out[9] for i in range(0,len(epix_motor))]\n",
    "check_matching\n",
    "print('The calibration and the following runs have different epix motor positions: ')\n",
    "print([runs[i] for i in range(0,len(runs)) if check_matching[i] is True])"
   ]
  },
  {
   "cell_type": "code",
   "execution_count": 10,
   "metadata": {},
   "outputs": [
    {
     "data": {
      "text/plain": [
       "[['xx', True, 1, 1, 1, 1], ['yy', True, 2, 2, 2]]"
      ]
     },
     "execution_count": 10,
     "metadata": {},
     "output_type": "execute_result"
    }
   ],
   "source": [
    "# Filtering Raw Data: filter[0] = 'filter_name'\n",
    "                    # filter[1] = True/False to turn on/off that filter\n",
    "                    # filter[2:end] = 1 value per index\n",
    "filter1 = ['xx',True,1,1,1,1]\n",
    "filter2 = ['yy',True,2,2,2]\n",
    "filter3 = ['zz',False,3]\n",
    "\n",
    "\n",
    "filter_parameters = [filter1, filter2, filter3]\n",
    "which_filters = [filter_parameters[i][1] for i in range(0,len(filter_parameters))]\n",
    "filters_to_use = [filter_parameters[i] for i in range(0,len(filter_parameters)) if which_filters[i]==True]\n",
    "filters_to_use"
   ]
  },
  {
   "cell_type": "code",
   "execution_count": null,
   "metadata": {},
   "outputs": [],
   "source": [
    "# Overlapping Data: matches energy ranges, resolutions, spectrometer response, and normalizes to upstream"
   ]
  }
 ],
 "metadata": {
  "kernelspec": {
   "display_name": "LCLS-I py3",
   "language": "python",
   "name": "ana1-current-py3"
  },
  "language_info": {
   "codemirror_mode": {
    "name": "ipython",
    "version": 3
   },
   "file_extension": ".py",
   "mimetype": "text/x-python",
   "name": "python",
   "nbconvert_exporter": "python",
   "pygments_lexer": "ipython3",
   "version": "3.7.10"
  }
 },
 "nbformat": 4,
 "nbformat_minor": 2
}
