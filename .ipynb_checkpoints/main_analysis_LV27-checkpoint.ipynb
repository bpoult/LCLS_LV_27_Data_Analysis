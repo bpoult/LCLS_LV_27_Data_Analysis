{
 "cells": [
  {
   "cell_type": "code",
   "execution_count": 35,
   "metadata": {},
   "outputs": [
    {
     "name": "stdout",
     "output_type": "stream",
     "text": [
      "Once deleted, variables cannot be recovered. Proceed (y/[n])? y\n"
     ]
    }
   ],
   "source": [
    "%reset"
   ]
  },
  {
   "cell_type": "code",
   "execution_count": 8,
   "metadata": {},
   "outputs": [],
   "source": [
    "import numpy as np\n",
    "import psana as ps\n",
    "import matplotlib.pyplot as plt\n",
    "import sys\n",
    "import time\n",
    "from Functions.load_data import load_data\n",
    "from raw_data_class import RawData as RDC"
   ]
  },
  {
   "cell_type": "code",
   "execution_count": 9,
   "metadata": {},
   "outputs": [],
   "source": [
    "save_dir = '/cds/home/b/bpoult/LCLS_LV_27_Data_Analysis/sample_data/'\n",
    "runs = list(range(207,214))\n",
    "epix_roi = [80,140,170,330]\n",
    "xrt_roi = [725,1389]"
   ]
  },
  {
   "cell_type": "code",
   "execution_count": 10,
   "metadata": {},
   "outputs": [
    {
     "name": "stdout",
     "output_type": "stream",
     "text": [
      "exp=cxix46119:run=207:smd\n",
      "Data loaded in 94.6 seconds.\n",
      "145 out of 6652 shots had empty values.\n"
     ]
    },
    {
     "ename": "NameError",
     "evalue": "name 'RawData' is not defined",
     "output_type": "error",
     "traceback": [
      "\u001b[0;31m---------------------------------------------------------------------------\u001b[0m",
      "\u001b[0;31mNameError\u001b[0m                                 Traceback (most recent call last)",
      "\u001b[0;32m<ipython-input-10-5b342ea81ed7>\u001b[0m in \u001b[0;36m<module>\u001b[0;34m\u001b[0m\n\u001b[1;32m      7\u001b[0m     \u001b[0mprint\u001b[0m\u001b[0;34m(\u001b[0m\u001b[0mds_string\u001b[0m\u001b[0;34m)\u001b[0m\u001b[0;34m\u001b[0m\u001b[0;34m\u001b[0m\u001b[0m\n\u001b[1;32m      8\u001b[0m     \u001b[0;32mif\u001b[0m \u001b[0mreload_raw\u001b[0m\u001b[0;34m:\u001b[0m\u001b[0;34m\u001b[0m\u001b[0;34m\u001b[0m\u001b[0m\n\u001b[0;32m----> 9\u001b[0;31m         \u001b[0mraw_data\u001b[0m \u001b[0;34m=\u001b[0m \u001b[0mload_data\u001b[0m\u001b[0;34m(\u001b[0m\u001b[0msave_dir\u001b[0m\u001b[0;34m,\u001b[0m\u001b[0mscan_name\u001b[0m\u001b[0;34m,\u001b[0m\u001b[0mds_string\u001b[0m\u001b[0;34m,\u001b[0m\u001b[0mepix_roi\u001b[0m\u001b[0;34m,\u001b[0m\u001b[0mxrt_roi\u001b[0m\u001b[0;34m)\u001b[0m\u001b[0;34m\u001b[0m\u001b[0;34m\u001b[0m\u001b[0m\n\u001b[0m",
      "\u001b[0;32m~/LCLS_LV_27_Data_Analysis/Functions/load_data.py\u001b[0m in \u001b[0;36mload_data\u001b[0;34m(save_dir, scan_name, ds_string, epix_roi, xrt_roi)\u001b[0m\n\u001b[1;32m     74\u001b[0m     \u001b[0mepix_events\u001b[0m \u001b[0;34m=\u001b[0m \u001b[0mnp\u001b[0m\u001b[0;34m.\u001b[0m\u001b[0masarray\u001b[0m\u001b[0;34m(\u001b[0m\u001b[0mepix_events\u001b[0m\u001b[0;34m)\u001b[0m\u001b[0;34m\u001b[0m\u001b[0;34m\u001b[0m\u001b[0m\n\u001b[1;32m     75\u001b[0m     \u001b[0mxrt_events\u001b[0m \u001b[0;34m=\u001b[0m \u001b[0mnp\u001b[0m\u001b[0;34m.\u001b[0m\u001b[0masarray\u001b[0m\u001b[0;34m(\u001b[0m\u001b[0mxrt_events\u001b[0m\u001b[0;34m)\u001b[0m\u001b[0;34m\u001b[0m\u001b[0;34m\u001b[0m\u001b[0m\n\u001b[0;32m---> 76\u001b[0;31m     RawData.changeValue(eventIDS = eventIDs, photon_energies=photon_energies,I0_fee = pulse_intensities,\n\u001b[0m\u001b[1;32m     77\u001b[0m                          \u001b[0mlow_diode_us\u001b[0m\u001b[0;34m=\u001b[0m\u001b[0mlow_diode_us_events\u001b[0m\u001b[0;34m,\u001b[0m\u001b[0mhigh_diode_us\u001b[0m\u001b[0;34m=\u001b[0m\u001b[0mhigh_diode_us_events\u001b[0m\u001b[0;34m,\u001b[0m \u001b[0mepix_spectrum\u001b[0m\u001b[0;34m=\u001b[0m\u001b[0mepix_events\u001b[0m\u001b[0;34m,\u001b[0m\u001b[0;34m\u001b[0m\u001b[0;34m\u001b[0m\u001b[0m\n\u001b[1;32m     78\u001b[0m                          \u001b[0mxrt_spectrum\u001b[0m\u001b[0;34m=\u001b[0m\u001b[0mxrt_events\u001b[0m\u001b[0;34m,\u001b[0m\u001b[0mavg_epix_2d\u001b[0m\u001b[0;34m=\u001b[0m\u001b[0mepix_roiSum\u001b[0m\u001b[0;34m,\u001b[0m\u001b[0mxrt_intensity\u001b[0m\u001b[0;34m=\u001b[0m\u001b[0mnp\u001b[0m\u001b[0;34m.\u001b[0m\u001b[0msum\u001b[0m\u001b[0;34m(\u001b[0m\u001b[0mxrt_events\u001b[0m\u001b[0;34m,\u001b[0m\u001b[0;36m1\u001b[0m\u001b[0;34m)\u001b[0m\u001b[0;34m,\u001b[0m\u001b[0;34m\u001b[0m\u001b[0;34m\u001b[0m\u001b[0m\n",
      "\u001b[0;31mNameError\u001b[0m: name 'RawData' is not defined"
     ]
    }
   ],
   "source": [
    "# Raw Data\n",
    "reload_raw = True\n",
    "raw_datas = []\n",
    "for run in runs:\n",
    "    scan_name = 'run_' + f'{run:03}'\n",
    "    ds_string = 'exp=cxix46119:run='+str(run)+':smd'\n",
    "    print(ds_string)\n",
    "    if reload_raw:\n",
    "        raw_data = load_data(save_dir,scan_name,ds_string,epix_roi,xrt_roi)"
   ]
  },
  {
   "cell_type": "code",
   "execution_count": 13,
   "metadata": {},
   "outputs": [],
   "source": [
    "RawData = RDC()\n",
    "RawData.changeValue(t=2)"
   ]
  }
 ],
 "metadata": {
  "kernelspec": {
   "display_name": "LCLS-I py3",
   "language": "python",
   "name": "ana1-current-py3"
  },
  "language_info": {
   "codemirror_mode": {
    "name": "ipython",
    "version": 3
   },
   "file_extension": ".py",
   "mimetype": "text/x-python",
   "name": "python",
   "nbconvert_exporter": "python",
   "pygments_lexer": "ipython3",
   "version": "3.7.10"
  }
 },
 "nbformat": 4,
 "nbformat_minor": 2
}
