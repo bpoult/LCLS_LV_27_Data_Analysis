{
 "cells": [
  {
   "cell_type": "code",
   "execution_count": 35,
   "metadata": {},
   "outputs": [
    {
     "name": "stdout",
     "output_type": "stream",
     "text": [
      "Once deleted, variables cannot be recovered. Proceed (y/[n])? y\n"
     ]
    }
   ],
   "source": [
    "%reset"
   ]
  },
  {
   "cell_type": "code",
   "execution_count": 6,
   "metadata": {},
   "outputs": [],
   "source": [
    "import numpy as np\n",
    "import psana as ps\n",
    "import matplotlib.pyplot as plt\n",
    "import sys\n",
    "import time\n",
    "import pickle\n",
    "from Functions.load_data import load_data\n",
    "from raw_data_class import RawData as RDC"
   ]
  },
  {
   "cell_type": "code",
   "execution_count": 2,
   "metadata": {},
   "outputs": [],
   "source": [
    "save_dir = '/cds/home/b/bpoult/LCLS_LV_27_Data_Analysis/sample_data/'\n",
    "runs = list(range(207,214))\n",
    "epix_roi = [80,140,170,330]\n",
    "xrt_roi = [725,1389]"
   ]
  },
  {
   "cell_type": "code",
   "execution_count": 7,
   "metadata": {},
   "outputs": [
    {
     "name": "stdout",
     "output_type": "stream",
     "text": [
      "exp=cxix46119:run=207:smd\n",
      "exp=cxix46119:run=208:smd\n",
      "exp=cxix46119:run=209:smd\n",
      "exp=cxix46119:run=210:smd\n",
      "exp=cxix46119:run=211:smd\n",
      "exp=cxix46119:run=212:smd\n",
      "exp=cxix46119:run=213:smd\n"
     ]
    }
   ],
   "source": [
    "# Raw Data\n",
    "reload_raw = False\n",
    "raw_datas = []\n",
    "for run in runs:\n",
    "    scan_name = 'run_' + f'{run:03}'\n",
    "    ds_string = 'exp=cxix46119:run='+str(run)+':smd'\n",
    "    print(ds_string)\n",
    "    if reload_raw:\n",
    "        raw_data = load_data(save_dir,scan_name,ds_string,epix_roi,xrt_roi)\n",
    "    else:\n",
    "        with open(save_dir + scan_name + \"/\" + \"rawdata.pkl\", \"rb\") as f:\n",
    "            raw_data = pickle.load(f)\n",
    "            \n",
    "    raw_datas = raw_datas + [raw_data]"
   ]
  }
 ],
 "metadata": {
  "kernelspec": {
   "display_name": "LCLS-I py3",
   "language": "python",
   "name": "ana1-current-py3"
  },
  "language_info": {
   "codemirror_mode": {
    "name": "ipython",
    "version": 3
   },
   "file_extension": ".py",
   "mimetype": "text/x-python",
   "name": "python",
   "nbconvert_exporter": "python",
   "pygments_lexer": "ipython3",
   "version": "3.7.10"
  }
 },
 "nbformat": 4,
 "nbformat_minor": 2
}
