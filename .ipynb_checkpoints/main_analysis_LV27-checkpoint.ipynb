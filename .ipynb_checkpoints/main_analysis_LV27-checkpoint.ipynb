{
 "cells": [
  {
   "cell_type": "markdown",
   "metadata": {},
   "source": [
    "Written by Ben Poulter (Khalil Group, University of Washington), May 2021.\n",
    "For LV27 LCLS Beamtime."
   ]
  },
  {
   "cell_type": "code",
   "execution_count": null,
   "metadata": {},
   "outputs": [],
   "source": [
    "import numpy as np\n",
    "import psana as ps\n",
    "import matplotlib.pyplot as plt\n",
    "import sys\n",
    "import time\n",
    "import pickle\n",
    "import os\n",
    "from Functions import *\n",
    "from raw_data_class import RawData as RDC\n",
    "from processed_data_class import processed_data_class as PDC\n",
    "%matplotlib notebook"
   ]
  },
  {
   "cell_type": "code",
   "execution_count": null,
   "metadata": {},
   "outputs": [],
   "source": [
    "save_dir = '/cds/home/b/bpoult/sample_data/'\n",
    "calib_dir = '/cds/home/b/bpoult/LCLS_LV_27_Data_Analysis/calibrations/'\n",
    "runs = list(range(230,239)) # goes from first value in range to last - 1\n",
    "epix_roi = [80,140,170,330]\n",
    "xrt_roi = [725,1500]\n",
    "calibration_file = 'calibration_2'\n",
    "\n",
    "# Processing or Loading\n",
    "process_raw = False\n",
    "on_off = False # Do you want to plot the raw data?\n",
    "plot_one = 238\n",
    "x_axis = 'energy' # 'pixels' or 'energy'\n",
    "to_cal_file = [calib_dir, calibration_file]"
   ]
  },
  {
   "cell_type": "code",
   "execution_count": null,
   "metadata": {
    "scrolled": false
   },
   "outputs": [],
   "source": [
    "# Energy Calibration, plot raw calibration runs with pixel axis and populate these arrays\n",
    "save_cal = False\n",
    "if save_cal is True:\n",
    "    calib_runs = list(range(230,238))\n",
    "    notch_energies = [6.985,6.990,6.995,7.000,7.005,7.010,7.015,7.020] # keV\n",
    "    xrt_pixels = [1412,1321,1237,1150,1065,980,896,810] # enter 0 if you can't see the notch\n",
    "    epix_pixels = [0,243,256,269,282,295,0,0] # enter 0 if you can't see the notch\n",
    "\n",
    "    labels = ['notch_energies','xrt_pixels','epix_pixels','rois','to_cal_file','calib_runs']\n",
    "    rois = [xrt_roi,epix_roi]\n",
    "    calib_in = [labels, notch_energies,xrt_pixels,epix_pixels,rois,to_cal_file,calib_runs]\n",
    "    calib_out = energy_calib.energy_calib(calib_in,save_cal)\n",
    "    print('')\n",
    "    print('The loaded calibration settings are: ')\n",
    "    current_cal = [print(calib_out[0][i] +' : '+ str(calib_out[i+1])) for i in list(range(0,5))+list(range(8,10))]\n",
    "if os.path.exists(to_cal_file[0]+to_cal_file[1]+'.pkl') and save_cal is False:\n",
    "    with open(to_cal_file[0] + to_cal_file[1] +'.pkl', \"rb\") as f:\n",
    "        calib_out = pickle.load(f)\n",
    "    print('The loaded calibration settings are: ')\n",
    "    current_cal = [print(calib_out[0][i] +' : '+ str(calib_out[i+1])) for i in list(range(0,5))+list(range(8,10))]   \n",
    "    \n",
    "if not os.path.exists(to_cal_file[0]+to_cal_file[1]+'.pkl'):\n",
    "    print(to_cal_file[1] + ' does not exist.')\n",
    "    print('No calibration file loaded.')"
   ]
  },
  {
   "cell_type": "code",
   "execution_count": null,
   "metadata": {
    "scrolled": false
   },
   "outputs": [],
   "source": [
    "# Raw Data\n",
    "raw_datas = []\n",
    "for run in runs:\n",
    "    scan_name = 'run_' + f'{run:03}'\n",
    "    ds_string = 'exp=cxix46119:run='+str(run)+':smd'\n",
    "    print(ds_string)\n",
    "    if process_raw:\n",
    "        raw_data = load_data.load_data(save_dir,scan_name,ds_string,epix_roi,xrt_roi)\n",
    "    else:\n",
    "        if os.path.exists(save_dir + scan_name + \"/\" + \"rawdata.pkl\"):\n",
    "            with open(save_dir + scan_name + \"/\" + \"rawdata.pkl\", \"rb\") as f:\n",
    "                raw_data = pickle.load(f)\n",
    "        else:\n",
    "            print('You are trying to load a file that does not exist.')\n",
    "    if os.path.exists(save_dir + scan_name + \"/\" + \"rawdata.pkl\"):\n",
    "        raw_datas = raw_datas + [raw_data]\n",
    "\n",
    "[load_data.add_cal_info(raw_datas[i],to_cal_file) for i in range(0,len(raw_datas))]\n",
    "plot_raw.plot_raw(raw_datas, plot_one, x_axis, on_off,to_cal_file)"
   ]
  },
  {
   "cell_type": "code",
   "execution_count": null,
   "metadata": {
    "scrolled": false
   },
   "outputs": [],
   "source": [
    "# Applys an energy window to both spectra. Decide on window based on epix spectrum above.\n",
    "# Also, reduces the resolution of the xrt spectrometer to match that of the epix.\n",
    "energy_window = [6.986,7.0158]\n",
    "for i in range(0,len(raw_datas)):\n",
    "    reduce_xrt_res.apply_window(raw_datas[i],energy_window)\n",
    "    reduce_xrt_res.reduce_res(raw_datas[i])\n",
    "\n",
    "\n",
    "# plt.figure()\n",
    "# plt.plot(raw_data.epix_energy_windowed,np.sum(raw_data.xrt_red_res,0))\n",
    "# plt.plot(raw_data.xrt_energy_windowed,np.sum(raw_data.xrt_windowed,0),alpha=0.5)\n",
    "# plt.show()"
   ]
  },
  {
   "cell_type": "code",
   "execution_count": null,
   "metadata": {},
   "outputs": [],
   "source": [
    "# Inputs for filters\n",
    "# filters = [filter0,filter1, ...,filterN]\n",
    "\n",
    "            # filterX[0] = On/Off # True or False\n",
    "            # filterX[1] = Type # 'bounds','linearity','rms'\n",
    "            # filterX[2] = [par0,par1,...,parN]\n",
    "            \n",
    "                # If Type = 'bounds'    # par0 = 'key_0' # key_X is string from raw_data.getKeys()\n",
    "                                        # par1 = lower bound # check raw_data.keyX for starting point \n",
    "                                        # par2 = upper bound # 'None' if no upper bound\n",
    "                                        # par3 = number of stds from median allowed\n",
    "            \n",
    "                # If Type = 'linearity' # par0 = 'key_0','key_1' # key_0 and key_1 and x and y values, respectively\n",
    "                                        # par1 = width of filter\n",
    "\n",
    "                        \n",
    "                # If Type = 'rms'       # TBD\n",
    "                \n",
    "# filterX[3] = [in_1, in_2]\n",
    "                # in_1 = On/Off # True or false\n",
    "                # in_2 = plot_one # The run you want to see plots for. Declared above in the 2nd block.\n",
    "\n",
    "print(raw_data.getKeys()) \n",
    "\n",
    "filt0 = [True,'bounds',['low_diode_us',0.285,'None',1.7],[False,plot_one]]\n",
    "filt1 = [True,'bounds',['high_diode_us',0.26,'None',1.5],[False,plot_one]]\n",
    "filt2 = [True,'bounds',['photon_energies',0.95,'None',0.8],[False,plot_one]]\n",
    "filt3 = [True,'bounds',['pulse_energies_fee',0.43,'None',1.5],[False,plot_one]]\n",
    "\n",
    "# The linearity filters create their fit based on data points that make it through\n",
    "# the bounds filters.\n",
    "\n",
    "filt4 = [True,'linearity',['xrt_intensity','epix_intensity',0.1],[False,plot_one]]\n",
    "filt5 = [True,'linearity',['low_diode_us','epix_intensity',0.1],[False,plot_one]]\n",
    "filt6 = [True,'linearity',['low_diode_us','xrt_intensity',0.1],[False,plot_one]]\n",
    "\n",
    "filters = [filt0,filt1,filt2,filt3,filt4,filt5,filt6]\n",
    "conditions = [Filters.filtering(raw_datas[i],filters) for i in range(0,len(raw_datas))]"
   ]
  },
  {
   "cell_type": "code",
   "execution_count": null,
   "metadata": {},
   "outputs": [],
   "source": [
    "# Make or load processed data\n",
    "make_pro = True\n",
    "pro_datas = []\n",
    "probe_run = [238,True]\n",
    "for i in range(0,len(raw_datas)):\n",
    "    if make_pro:\n",
    "        processed_data = raw_datas[i].make_pro_data(conditions[i],filters)\n",
    "    else:\n",
    "        if os.path.exists(raw_datas[i].save_dir + raw_datas[i].scan_name + \"/\" + \"pro_data.pkl\"):\n",
    "            with open(raw_datas[i].save_dir + raw_datas[i].scan_name + \"/\" + \"pro_data.pkl\", \"rb\") as f:\n",
    "                processed_data = pickle.load(f)\n",
    "                print('Loaded processed_data for run ' + processed_data.scan_name)\n",
    "        else:\n",
    "            print('You are trying to load a file that does not exist.')\n",
    "        \n",
    "    if os.path.exists(save_dir + scan_name + \"/\" + \"pro_data.pkl\"):\n",
    "        pro_datas = pro_datas + [processed_data]\n",
    "    pro_datas[i].scale_spectrometers(probe_run)"
   ]
  }
 ],
 "metadata": {
  "kernelspec": {
   "display_name": "Python 3",
   "language": "python",
   "name": "python3"
  },
  "language_info": {
   "codemirror_mode": {
    "name": "ipython",
    "version": 3
   },
   "file_extension": ".py",
   "mimetype": "text/x-python",
   "name": "python",
   "nbconvert_exporter": "python",
   "pygments_lexer": "ipython3",
   "version": "3.7.6"
  }
 },
 "nbformat": 4,
 "nbformat_minor": 2
}
