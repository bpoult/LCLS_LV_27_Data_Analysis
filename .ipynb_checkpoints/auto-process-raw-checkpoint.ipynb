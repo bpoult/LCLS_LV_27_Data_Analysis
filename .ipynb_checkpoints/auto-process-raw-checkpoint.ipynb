{
 "cells": [
  {
   "cell_type": "code",
   "execution_count": 2,
   "metadata": {},
   "outputs": [],
   "source": [
    "import numpy as np\n",
    "import psana as ps\n",
    "import matplotlib.pyplot as plt\n",
    "import sys\n",
    "import time\n",
    "import pickle\n",
    "import os\n",
    "from raw_data_class import RawData as RDC\n",
    "from Functions import *\n",
    "%matplotlib notebook\n"
   ]
  },
  {
   "cell_type": "code",
   "execution_count": null,
   "metadata": {},
   "outputs": [
    {
     "name": "stdout",
     "output_type": "stream",
     "text": [
      "Data loaded in 605.7 seconds.rrently on shot: 34114\n",
      "1862 out of 35976 shots had empty values.\n",
      "Data loaded in 587.4 seconds.rrently on shot: 35074\n",
      "2246 out of 37320 shots had empty values.\n",
      "Data loaded in 583.7 seconds.rrently on shot: 33628\n",
      "2144 out of 35772 shots had empty values.\n",
      "No new runs. Last run processed: 191 | 2021-05-31 08:03:48.281657\n",
      "Data loaded in 588.9 seconds.rrently on shot: 33725\n",
      "1960 out of 35685 shots had empty values.\n",
      "Data loaded in 571.5 seconds.rrently on shot: 34105\n",
      "2406 out of 36511 shots had empty values.\n",
      "Data loaded in 622.1 seconds.rrently on shot: 33519\n",
      "2191 out of 35710 shots had empty values.\n",
      "Data loaded in 608.2 seconds.rrently on shot: 33212\n",
      "2354 out of 35566 shots had empty values.\n",
      "No new runs. Last run processed: 197 | 2021-05-31 08:44:42.924513\n",
      "Data loaded in 602.0 seconds.rrently on shot: 34968\n",
      "2249 out of 37217 shots had empty values.\n",
      "Data loaded in 567.5 seconds.rrently on shot: 36199\n",
      "1314 out of 37513 shots had empty values.\n",
      "Data loaded in 580.5 seconds.rrently on shot: 34264\n",
      "2738 out of 37002 shots had empty values.\n",
      "Data loaded in 571.7 seconds.rrently on shot: 34387\n",
      "2125 out of 36512 shots had empty values.\n",
      "Data loaded in 567.7 seconds.rrently on shot: 33719\n",
      "2402 out of 36121 shots had empty values.\n",
      "Data loaded in 581.1 seconds.rrently on shot: 33387\n",
      "2154 out of 35541 shots had empty values.\n",
      "No new runs. Last run processed: 205 | 2021-05-31 09:43:38.811447\n",
      "No new runs. Last run processed: 208 | 2021-05-31 09:44:38.917650\n",
      "No new runs. Last run processed: 208 | 2021-05-31 09:45:39.009027\n",
      "No new runs. Last run processed: 208 | 2021-05-31 09:46:39.049562\n",
      "No new runs. Last run processed: 208 | 2021-05-31 09:47:39.142120\n",
      "No new runs. Last run processed: 208 | 2021-05-31 09:48:39.227359\n",
      "Data loaded in 481.4 seconds.rrently on shot: 33915\n",
      "1935 out of 35850 shots had empty values.\n",
      "No new runs. Last run processed: 209 | 2021-05-31 09:57:41.596893\n",
      "Data loaded in 635.4 seconds.rrently on shot: 36153\n",
      "1850 out of 38003 shots had empty values.\n",
      "No new runs. Last run processed: 210 | 2021-05-31 10:09:17.992058\n",
      "Loading run run_211 : ...  Currently on shot: 9281\r"
     ]
    }
   ],
   "source": [
    "epix_roi= [95,145,205,305]\n",
    "xrt_roi = [300,1100]\n",
    "xtc_smd_dir = '/reg/d/psdm/cxi/cxilv2718/xtc/smalldata/'\n",
    "load_data_input = ['/reg/d/psdm/cxi/cxilv2718/results/data/',epix_roi,xrt_roi]\n",
    "i=1\n",
    "while i is 1:\n",
    "    monitor_files.monitor_and_process(xtc_smd_dir,load_data_input)\n",
    "    time.sleep(60)"
   ]
  },
  {
   "cell_type": "code",
   "execution_count": null,
   "metadata": {},
   "outputs": [],
   "source": [
    "save_dir = 1\n",
    "xtc_smd_dir = '/reg/d/psdm/cxi/cxilv2718/xtc/smalldata/'\n",
    "x = os.listdir(xtc_smd_dir)\n",
    "print(x)\n",
    "test = []\n",
    "# runs_in_dir = [test.append(any('r00' in x[i])) for i in range(0,len(x))]\n",
    "check_for = '-r'\n",
    "# any('r00') in x[0]\n",
    "any(check_for in files for files in x)\n",
    "test\n",
    "run_list = np.unique([int(x[i][11:15]) for i in range(0,len(x)) if check_for in x[i]])\n",
    "print(run_list)"
   ]
  },
  {
   "cell_type": "code",
   "execution_count": null,
   "metadata": {},
   "outputs": [],
   "source": [
    "x = os.listdir(xtc_smd_dir)\n",
    "nameSet = set(np.unique([int(x[i][11:15]) for i in range(0,len(x)) if '-r' in x[i]]))\n",
    "nameSet\n",
    "ds_string = 'exp=cxix46119:run='+str(2)+':smd'\n",
    "ds_string"
   ]
  },
  {
   "cell_type": "code",
   "execution_count": null,
   "metadata": {},
   "outputs": [],
   "source": [
    "ds = ps.DataSource(ds_string)\n",
    "\n",
    "events = []\n",
    "eventIDS = []\n",
    "for nevent, evt in enumerate(ds.events()):\n",
    "    eventIDS.append(nevent)\n",
    "    events.append(evt)\n",
    "# detNames = ps.DetNames()\n",
    "# for detname in DetNames(): \n",
    "#     print(detname)\n",
    "dir(events[3])\n",
    "ps.DetNames()"
   ]
  },
  {
   "cell_type": "code",
   "execution_count": null,
   "metadata": {
    "scrolled": false
   },
   "outputs": [],
   "source": [
    "save_dir = '/reg/d/psdm/cxi/cxilv2718/results/data/'\n",
    "runs = [10,12]\n",
    "plot_one = 10\n",
    "scan_name = 'run_'+ str(plot_one)\n",
    "x_axis='energy'\n",
    "save_dir = '/reg/d/psdm/cxi/cxilv2718/results/data/'\n",
    "calib_dir = '/reg/d/psdm/cxi/cxilv2718/results/calibrations/'\n",
    "calibration_file = 'calibration_1'\n",
    "to_cal_file = [calib_dir, calibration_file]\n",
    "# Processing or Loading\n",
    "process_raw = False\n",
    "on_off = True # Do you want to plot the raw data?\n",
    "raw_datas = []\n",
    "stack_scans = True\n",
    "\n",
    "for run in runs:\n",
    "    scan_name = 'run_' + str(run)\n",
    "    with open(save_dir + scan_name + \"/\" + \"rawdata.pkl\", \"rb\") as f:\n",
    "        raw_data = pickle.load(f)\n",
    "    raw_datas = [raw_datas] + raw_data\n",
    "\n",
    "# plot_raw.plot_raw(raw_datas, plot_one, x_axis, on_off,to_cal_file)\n",
    "plt.figure()"
   ]
  },
  {
   "cell_type": "code",
   "execution_count": null,
   "metadata": {
    "scrolled": false
   },
   "outputs": [],
   "source": [
    "save_dir = '/reg/d/psdm/cxi/cxilv2718/results/data/'\n",
    "scan_name = 'run_10'\n",
    "with open(save_dir + scan_name + \"/\" + \"rawdata.pkl\", \"rb\") as f:\n",
    "    raw_data = pickle.load(f)\n",
    "# var_x = getattr(raw_data,filt_param[2][0])\n",
    "# var_y = getattr(raw_data,filt_param[2][1])\n",
    "# var_x = var_x\n",
    "# var_y = var_y\n",
    "# lin_fit = np.polyfit(var_x[bounds_conds], var_y[bounds_conds], 1)\n",
    "# cond_lin_high = var_y < var_x * lin_fit[0] + lin_fit[1] + filt_param[2][2]\n",
    "# cond_lin_low = var_y > var_x * lin_fit[0] + lin_fit[1] - filt_param[2][2]\n",
    "# condition = cond_lin_high & cond_lin_low\n",
    "# if np.logical_and(filt_param[3][0],'run_'+str(filt_param[3][1])==getattr(raw_data,'scan_name')):\n",
    "# plt.figure()\n",
    "# plt.scatter(var_x,var_y,alpha=0.95)\n",
    "# plt.scatter(var_x[condition],var_y[condition],alpha=0.05)\n",
    "# plt.title(filt_param[1]+' '+filt_param[2][0] +' vs '+ filt_param[2][1])\n",
    "# plt.show()\n",
    "# low_diode_us = raw_data.low_diode_us\n",
    "# xrt_I = raw_data.xrt_intensity\n",
    "# xrt_I = xrt_I[:,np.newaxis]\n",
    "# a, _, _, _ = np.linalg.lstsq(xrt_I,low_diode_us)\n",
    "plot_one = 10\n",
    "# plt.figure()\n",
    "# plt.plot(xrt_I,low_diode_us)\n",
    "# plt.plot(xrt_I,a*xrt_I)\n",
    "# filt0 = [True,'bounds',['low_diode_us',0.1,'None',2],[False,plot_one]]\n",
    "\n",
    "filt_param = [True,'linearity',['low_diode_us','xrt_intensity',0.15,True],[True,plot_one]]\n",
    "filters = [filt_param]\n",
    "# filters[0][2]\n",
    "conditions,test = Filters.filtering(raw_data,filters,True)\n",
    "# var_x = getattr(raw_data,filt_param[2][0])\n",
    "# var_y = getattr(raw_data,filt_param[2][1])\n",
    "#     scale = np.max([var_x,var_y])\n",
    "#     if filt_param[2][3]:\n",
    "#         var_x = var_x[:,np.newaxis]\n",
    "#         m, _, _, _ = np.linalg.lstsq(var_x[bounds_conds],var_y[bounds_conds])\n",
    "#         var_x =np.squeeze(var_x)\n",
    "#         cond_lin_high = var_y < var_x * m + filt_param[2][2]*scale\n",
    "#         cond_lin_low = var_y > var_x * m - filt_param[2][2]*scale\n",
    "#         condition = cond_lin_high & cond_lin_low\n",
    "#     else:\n",
    "#         var_x = var_x\n",
    "#         var_y = var_y\n",
    "#         lin_fit = np.polyfit(var_x[bounds_conds], var_y[bounds_conds], 1)\n",
    "#         cond_lin_high = var_y < var_x * lin_fit[0] + lin_fit[1] + filt_param[2][2]*scale\n",
    "#         cond_lin_low = var_y > var_x * lin_fit[0] + lin_fit[1] - filt_param[2][2]*scale\n",
    "#         condition = cond_lin_high & cond_lin_low\n",
    "#     if np.logical_and(filt_param[3][0],'run_'+str(filt_param[3][1])==getattr(raw_data,'scan_name')):\n",
    "#         plt.figure()\n",
    "#         plt.scatter(var_x[bounds_conds],var_y[bounds_conds],alpha=0.95)\n",
    "#         plt.scatter(var_x[np.logical_and(bounds_conds,condition)],var_y[np.logical_and(bounds_conds,condition)],alpha=0.05)\n",
    "#         plt.title(filt_param[1]+' '+filt_param[2][0] +' vs '+ filt_param[2][1])\n",
    "#         plt.show()\n",
    "\n"
   ]
  },
  {
   "cell_type": "code",
   "execution_count": null,
   "metadata": {},
   "outputs": [],
   "source": [
    "# s = True\n",
    "# t=np.bool_()\n",
    "type(np.bool_(True))==type(np.bool_(True))\n"
   ]
  }
 ],
 "metadata": {
  "kernelspec": {
   "display_name": "LCLS-I py3",
   "language": "python",
   "name": "ana1-current-py3"
  },
  "language_info": {
   "codemirror_mode": {
    "name": "ipython",
    "version": 3
   },
   "file_extension": ".py",
   "mimetype": "text/x-python",
   "name": "python",
   "nbconvert_exporter": "python",
   "pygments_lexer": "ipython3",
   "version": "3.7.10"
  }
 },
 "nbformat": 4,
 "nbformat_minor": 2
}
