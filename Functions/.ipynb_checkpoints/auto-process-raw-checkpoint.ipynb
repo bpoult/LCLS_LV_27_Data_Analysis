{
 "cells": [
  {
   "cell_type": "code",
   "execution_count": 2,
   "metadata": {},
   "outputs": [
    {
     "ename": "ModuleNotFoundError",
     "evalue": "No module named 'raw_data_class'",
     "output_type": "error",
     "traceback": [
      "\u001b[0;31m---------------------------------------------------------------------------\u001b[0m",
      "\u001b[0;31mModuleNotFoundError\u001b[0m                       Traceback (most recent call last)",
      "\u001b[0;32m<ipython-input-2-f236af85ed02>\u001b[0m in \u001b[0;36m<module>\u001b[0;34m\u001b[0m\n\u001b[1;32m      6\u001b[0m \u001b[0;32mimport\u001b[0m \u001b[0mpickle\u001b[0m\u001b[0;34m\u001b[0m\u001b[0;34m\u001b[0m\u001b[0m\n\u001b[1;32m      7\u001b[0m \u001b[0;32mimport\u001b[0m \u001b[0mos\u001b[0m\u001b[0;34m\u001b[0m\u001b[0;34m\u001b[0m\u001b[0m\n\u001b[0;32m----> 8\u001b[0;31m \u001b[0;32mfrom\u001b[0m \u001b[0mraw_data_class\u001b[0m \u001b[0;32mimport\u001b[0m \u001b[0mRawData\u001b[0m \u001b[0;32mas\u001b[0m \u001b[0mRDC\u001b[0m\u001b[0;34m\u001b[0m\u001b[0;34m\u001b[0m\u001b[0m\n\u001b[0m\u001b[1;32m      9\u001b[0m \u001b[0;32mfrom\u001b[0m \u001b[0mmonitor_files\u001b[0m \u001b[0;32mimport\u001b[0m \u001b[0mmonitor_and_process\u001b[0m\u001b[0;34m\u001b[0m\u001b[0;34m\u001b[0m\u001b[0m\n\u001b[1;32m     10\u001b[0m \u001b[0mget_ipython\u001b[0m\u001b[0;34m(\u001b[0m\u001b[0;34m)\u001b[0m\u001b[0;34m.\u001b[0m\u001b[0mrun_line_magic\u001b[0m\u001b[0;34m(\u001b[0m\u001b[0;34m'matplotlib'\u001b[0m\u001b[0;34m,\u001b[0m \u001b[0;34m'notebook'\u001b[0m\u001b[0;34m)\u001b[0m\u001b[0;34m\u001b[0m\u001b[0;34m\u001b[0m\u001b[0m\n",
      "\u001b[0;31mModuleNotFoundError\u001b[0m: No module named 'raw_data_class'"
     ]
    }
   ],
   "source": [
    "import numpy as np\n",
    "import psana as ps\n",
    "import matplotlib.pyplot as plt\n",
    "import sys\n",
    "import time\n",
    "import pickle\n",
    "import os\n",
    "from raw_data_class import RawData as RDC\n",
    "from monitor_files import monitor_and_process\n",
    "%matplotlib notebook"
   ]
  },
  {
   "cell_type": "code",
   "execution_count": 7,
   "metadata": {},
   "outputs": [
    {
     "name": "stdout",
     "output_type": "stream",
     "text": [
      "Turn on/off off\n",
      "0\n"
     ]
    }
   ],
   "source": [
    "status = input('Turn on/off ')\n",
    "if status == 'on':\n",
    "    i = 1\n",
    "if status =='off':\n",
    "    i = 0\n",
    "print(i)"
   ]
  },
  {
   "cell_type": "code",
   "execution_count": null,
   "metadata": {},
   "outputs": [],
   "source": [
    "epix_roi = [80,140,170,330]\n",
    "xrt_roi = [725,1500]\n",
    "save_dir = '/reg/d/psdm/cxilv2718/results/run_lists/'\n",
    "xtc_smd_dir = '/reg/d/psdm/cxi/cxilv2718/xtc/smalldata/'\n",
    "load_data_input = ['/reg/d/psdm/cxilv2718/results/data/',epix_roi,xrt_roi]\n",
    "\n",
    "while i is 1:\n",
    "    monitor_and_process(save_dir,xtc_smd_dir,load_data_input)\n",
    "    "
   ]
  },
  {
   "cell_type": "code",
   "execution_count": 48,
   "metadata": {},
   "outputs": [
    {
     "name": "stdout",
     "output_type": "stream",
     "text": [
      "['cxilv2718-r0001-s02-c00.smd.xtc', 'cxilv2718-r0001-s00-c00.smd.xtc', 'cxilv2718-r0002-s80-c00.smd.xtc', 'cxilv2718-r0001-s80-c00.smd.xtc', 'cxilv2718-r0002-s00-c00.smd.xtc', 'cxilv2718-r0002-s02-c00.smd.xtc', 'cxilv2718-r0002-s01-c00.smd.xtc', 'cxilv2718-r0001-s81-c00.smd.xtc', 'cxilv2718-r0002-s03-c00.smd.xtc', 'md5', 'cxilv2718-r0001-s03-c00.smd.xtc', 'cxilv2718-r0002-s81-c00.smd.xtc', 'cxilv2718-r0001-s01-c00.smd.xtc']\n",
      "[1 2]\n"
     ]
    }
   ],
   "source": [
    "save_dir = 1\n",
    "xtc_smd_dir = '/reg/d/psdm/cxi/cxilv2718/xtc/smalldata/'\n",
    "x = os.listdir(xtc_smd_dir)\n",
    "print(x)\n",
    "test = []\n",
    "# runs_in_dir = [test.append(any('r00' in x[i])) for i in range(0,len(x))]\n",
    "check_for = '-r'\n",
    "# any('r00') in x[0]\n",
    "any(check_for in files for files in x)\n",
    "test\n",
    "run_list = np.unique([int(x[i][11:15]) for i in range(0,len(x)) if check_for in x[i]])\n",
    "print(run_list)"
   ]
  },
  {
   "cell_type": "code",
   "execution_count": 60,
   "metadata": {},
   "outputs": [
    {
     "data": {
      "text/plain": [
       "{6, 7}"
      ]
     },
     "execution_count": 60,
     "metadata": {},
     "output_type": "execute_result"
    }
   ],
   "source": [
    "a = set([1,2,3,4,5])\n",
    "b = set([1,2,3,4,5,6,7])\n",
    "# test =\n",
    "b-a"
   ]
  }
 ],
 "metadata": {
  "kernelspec": {
   "display_name": "LCLS-I py3",
   "language": "python",
   "name": "ana1-current-py3"
  },
  "language_info": {
   "codemirror_mode": {
    "name": "ipython",
    "version": 3
   },
   "file_extension": ".py",
   "mimetype": "text/x-python",
   "name": "python",
   "nbconvert_exporter": "python",
   "pygments_lexer": "ipython3",
   "version": "3.7.10"
  }
 },
 "nbformat": 4,
 "nbformat_minor": 2
}
