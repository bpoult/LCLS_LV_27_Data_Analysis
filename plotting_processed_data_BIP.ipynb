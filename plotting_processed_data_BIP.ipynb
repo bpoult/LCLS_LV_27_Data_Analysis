{
 "cells": [
  {
   "cell_type": "code",
   "execution_count": 91,
   "metadata": {},
   "outputs": [],
   "source": [
    "%reset -sf\n",
    "import numpy as np\n",
    "import psana as ps\n",
    "import matplotlib.pyplot as plt\n",
    "import sys\n",
    "import time\n",
    "import pickle\n",
    "import os\n",
    "from Functions import *\n",
    "from raw_data_class import RawData as RDC\n",
    "from processed_data_class import processed_data_class as PDC\n",
    "%matplotlib notebook\n",
    "import warnings\n",
    "import numpy as np\n",
    "warnings.filterwarnings('ignore')"
   ]
  },
  {
   "cell_type": "code",
   "execution_count": 100,
   "metadata": {
    "scrolled": false
   },
   "outputs": [
    {
     "name": "stdout",
     "output_type": "stream",
     "text": [
      "Loaded processed_data for run run_166\n",
      "Loaded processed_data for run run_167\n",
      "Loaded processed_data for run run_236\n",
      "Loaded processed_data for run run_237\n",
      "Loaded processed_data for run run_238\n",
      "You are trying to load a file that does not exist.\n"
     ]
    },
    {
     "ename": "TypeError",
     "evalue": "'NoneType' object is not subscriptable",
     "output_type": "error",
     "traceback": [
      "\u001b[0;31m---------------------------------------------------------------------------\u001b[0m",
      "\u001b[0;31mTypeError\u001b[0m                                 Traceback (most recent call last)",
      "\u001b[0;32m<ipython-input-100-435c7d478a54>\u001b[0m in \u001b[0;36m<module>\u001b[0;34m\u001b[0m\n\u001b[1;32m     32\u001b[0m \u001b[0minput_vars\u001b[0m \u001b[0;34m=\u001b[0m \u001b[0;34m[\u001b[0m\u001b[0mscans_to_plot\u001b[0m\u001b[0;34m,\u001b[0m\u001b[0mspec_cal_runs\u001b[0m\u001b[0;34m,\u001b[0m\u001b[0mplot_conds\u001b[0m\u001b[0;34m,\u001b[0m\u001b[0mplot_shotwise\u001b[0m\u001b[0;34m,\u001b[0m\u001b[0mplot_meanwise\u001b[0m\u001b[0;34m,\u001b[0m\u001b[0mruns\u001b[0m\u001b[0;34m,\u001b[0m\u001b[0mbootstrap\u001b[0m\u001b[0;34m]\u001b[0m\u001b[0;34m\u001b[0m\u001b[0;34m\u001b[0m\u001b[0m\n\u001b[1;32m     33\u001b[0m \u001b[0mpro_datas\u001b[0m \u001b[0;34m=\u001b[0m \u001b[0mload_pro\u001b[0m\u001b[0;34m.\u001b[0m\u001b[0mload_pro\u001b[0m\u001b[0;34m(\u001b[0m\u001b[0mruns\u001b[0m\u001b[0;34m)\u001b[0m\u001b[0;34m\u001b[0m\u001b[0;34m\u001b[0m\u001b[0m\n\u001b[0;32m---> 34\u001b[0;31m \u001b[0mplot_pro\u001b[0m\u001b[0;34m.\u001b[0m\u001b[0mplot_lots\u001b[0m\u001b[0;34m(\u001b[0m\u001b[0mpro_datas\u001b[0m\u001b[0;34m,\u001b[0m\u001b[0minput_vars\u001b[0m\u001b[0;34m)\u001b[0m\u001b[0;34m\u001b[0m\u001b[0;34m\u001b[0m\u001b[0m\n\u001b[0m",
      "\u001b[0;32m/reg/data/ana16/cxi/cxilv2718/results/LCLS_LV_27_Data_Analysis/Functions/plot_pro.py\u001b[0m in \u001b[0;36mplot_lots\u001b[0;34m(pro_datas, input_vars)\u001b[0m\n\u001b[1;32m    106\u001b[0m     \u001b[0mruns\u001b[0m \u001b[0;34m=\u001b[0m \u001b[0minput_vars\u001b[0m\u001b[0;34m[\u001b[0m\u001b[0;36m5\u001b[0m\u001b[0;34m]\u001b[0m\u001b[0;34m\u001b[0m\u001b[0;34m\u001b[0m\u001b[0m\n\u001b[1;32m    107\u001b[0m     \u001b[0mbootstrapped\u001b[0m \u001b[0;34m=\u001b[0m \u001b[0minput_vars\u001b[0m\u001b[0;34m[\u001b[0m\u001b[0;36m6\u001b[0m\u001b[0;34m]\u001b[0m\u001b[0;34m\u001b[0m\u001b[0;34m\u001b[0m\u001b[0m\n\u001b[0;32m--> 108\u001b[0;31m     \u001b[0menergy\u001b[0m \u001b[0;34m=\u001b[0m \u001b[0mpro_datas\u001b[0m\u001b[0;34m[\u001b[0m\u001b[0;36m0\u001b[0m\u001b[0;34m]\u001b[0m\u001b[0;34m.\u001b[0m\u001b[0mepix_energy_windowed\u001b[0m\u001b[0;34m\u001b[0m\u001b[0;34m\u001b[0m\u001b[0m\n\u001b[0m\u001b[1;32m    109\u001b[0m \u001b[0;34m\u001b[0m\u001b[0m\n\u001b[1;32m    110\u001b[0m     \u001b[0mshots_in_scale\u001b[0m \u001b[0;34m=\u001b[0m \u001b[0mgather_shots\u001b[0m\u001b[0;34m(\u001b[0m\u001b[0mpro_datas\u001b[0m\u001b[0;34m,\u001b[0m\u001b[0;34m[\u001b[0m\u001b[0mspec_cal_runs\u001b[0m\u001b[0;34m,\u001b[0m\u001b[0;36m1\u001b[0m\u001b[0;34m,\u001b[0m\u001b[0mruns\u001b[0m\u001b[0;34m]\u001b[0m\u001b[0;34m)\u001b[0m\u001b[0;34m\u001b[0m\u001b[0;34m\u001b[0m\u001b[0m\n",
      "\u001b[0;31mTypeError\u001b[0m: 'NoneType' object is not subscriptable"
     ]
    }
   ],
   "source": [
    "# set_0 = [190,192,194]\n",
    "# set_1 = [191,193,195]\n",
    "# set_0 = [170,172,174,184,186,188]\n",
    "# set_1 = [171,173,175,185,187,189]\n",
    "# set_0 = [209,210,211]\n",
    "# set_1 = [212,213,214]\n",
    "# set_1 = [191,193,195,197,199,201,203]\n",
    "# set_2 = [170,172,174]\n",
    "# set_3 = [171,173,175]\n",
    "# set_4 = [176,177]\n",
    "set_0 = [236,237,238,239]\n",
    "\n",
    "# set_2 = [121]\n",
    "\n",
    "\n",
    "spec_cal_runs = [[166,167]]  # Select runs with no sample in line\n",
    "\n",
    "scans_to_plot = set_0\n",
    "\n",
    "plot_conds = [True,False,False,True] # epix, xrt, resid, deltaT_T\n",
    "plot_meanwise = True                 # deltaT_T like avg(epix)-avg(xrt))/avg(xrt)\n",
    "plot_shotwise = True                  # deltaT_T like avg[(epix-xrt)/xrt] shot by shot\n",
    "bootstrap = [True,50,1/2]            # how many loops, and what random fraction of data per loop\n",
    "\n",
    "\n",
    "\n",
    "#################################      DON'T WORRY ABOUT THE LINES UNDER THIS #########################################\n",
    "if type(scans_to_plot) is list:\n",
    "    scans_to_plot = np.asarray(scans_to_plot)[np.newaxis,:]\n",
    "runs = np.append(np.concatenate(spec_cal_runs),np.concatenate(scans_to_plot))\n",
    "runs = runs.tolist()\n",
    "input_vars = [scans_to_plot,spec_cal_runs,plot_conds,plot_shotwise,plot_meanwise,runs,bootstrap]\n",
    "pro_datas = load_pro.load_pro(runs)\n",
    "plot_pro.plot_lots(pro_datas,input_vars)"
   ]
  },
  {
   "cell_type": "code",
   "execution_count": null,
   "metadata": {},
   "outputs": [],
   "source": [
    "set_3 = [171,173,175]\n",
    "set_4 = [176,177]\n",
    "\n"
   ]
  }
 ],
 "metadata": {
  "kernelspec": {
   "display_name": "LCLS-I py3",
   "language": "python",
   "name": "ana1-current-py3"
  },
  "language_info": {
   "codemirror_mode": {
    "name": "ipython",
    "version": 3
   },
   "file_extension": ".py",
   "mimetype": "text/x-python",
   "name": "python",
   "nbconvert_exporter": "python",
   "pygments_lexer": "ipython3",
   "version": "3.7.10"
  }
 },
 "nbformat": 4,
 "nbformat_minor": 2
}
