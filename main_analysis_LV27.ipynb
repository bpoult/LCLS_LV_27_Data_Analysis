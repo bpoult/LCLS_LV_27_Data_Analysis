{
 "cells": [
  {
   "cell_type": "code",
   "execution_count": 1,
   "metadata": {},
   "outputs": [],
   "source": [
    "import numpy as np\n",
    "import psana as ps\n",
    "import matplotlib.pyplot as plt\n",
    "import sys\n",
    "import time\n",
    "import pickle\n",
    "from Functions import *\n",
    "from raw_data_class import RawData as RDC\n",
    "%matplotlib notebook"
   ]
  },
  {
   "cell_type": "code",
   "execution_count": 2,
   "metadata": {},
   "outputs": [],
   "source": [
    "save_dir = '/cds/home/b/bpoult/LCLS_LV_27_Data_Analysis/sample_data/'\n",
    "runs = list(range(207,214))\n",
    "epix_roi = [80,140,170,330]\n",
    "xrt_roi = [725,1500]\n",
    "\n",
    "# Processing or Loading\n",
    "process_raw = False\n",
    "on_off = False\n",
    "plot_one = 210\n",
    "x_axis = 'energy' # 'pixels' or 'energy'\n",
    "\n",
    "# Energy Calibration, plot raw calibration runs with pixel axis and populate these arrays\n",
    "save_cal = True\n",
    "labels = ['notch_energies','xrt_pixels','epix_pixels']\n",
    "notch_energies = [7.06,7.065,7.07,7.075,7.08,7.085,7.09] # keV\n",
    "xrt_pixels = [1474,1385,1297,1216,1131,1048,966] # enter 0 if you can't see the notch\n",
    "epix_pixels = [0,223,236,248,262,274,0] # enter 0 if you can't see the notch\n",
    "calib_data = [labels, notch_energies,xrt_pixels,epix_pixels] "
   ]
  },
  {
   "cell_type": "code",
   "execution_count": 13,
   "metadata": {},
   "outputs": [
    {
     "name": "stdout",
     "output_type": "stream",
     "text": [
      "exp=cxix46119:run=207:smd\n",
      "exp=cxix46119:run=208:smd\n",
      "exp=cxix46119:run=209:smd\n",
      "exp=cxix46119:run=210:smd\n",
      "exp=cxix46119:run=211:smd\n",
      "exp=cxix46119:run=212:smd\n",
      "exp=cxix46119:run=213:smd\n",
      "Raw Data plotting is turned off.\n"
     ]
    }
   ],
   "source": [
    "# Raw Data\n",
    "raw_datas = []\n",
    "for run in runs:\n",
    "    scan_name = 'run_' + f'{run:03}'\n",
    "    ds_string = 'exp=cxix46119:run='+str(run)+':smd'\n",
    "    print(ds_string)\n",
    "    if process_raw:\n",
    "        raw_data = load_data.load_data(save_dir,scan_name,ds_string,epix_roi,xrt_roi)\n",
    "    else:\n",
    "        with open(save_dir + scan_name + \"/\" + \"rawdata.pkl\", \"rb\") as f:\n",
    "            raw_data = pickle.load(f)\n",
    "            \n",
    "    raw_datas = raw_datas + [raw_data]\n",
    "\n",
    "plot_raw.plot_raw(raw_datas, plot_one, x_axis, on_off)"
   ]
  },
  {
   "cell_type": "code",
   "execution_count": 16,
   "metadata": {},
   "outputs": [
    {
     "name": "stdout",
     "output_type": "stream",
     "text": [
      "['notch_energies', 'xrt_pixels', 'epix_pixels', 'xrt_energy', 'epix_energy', 'time_calibrated']\n"
     ]
    }
   ],
   "source": [
    "# Energy Calibration\n",
    "raw_datas = [energy_calib.energy_calib(raw_datas[i],calib_data,save_cal) for i in range(0,len(raw_datas))]"
   ]
  }
 ],
 "metadata": {
  "kernelspec": {
   "display_name": "LCLS-I py3",
   "language": "python",
   "name": "ana1-current-py3"
  },
  "language_info": {
   "codemirror_mode": {
    "name": "ipython",
    "version": 3
   },
   "file_extension": ".py",
   "mimetype": "text/x-python",
   "name": "python",
   "nbconvert_exporter": "python",
   "pygments_lexer": "ipython3",
   "version": "3.7.10"
  }
 },
 "nbformat": 4,
 "nbformat_minor": 2
}
