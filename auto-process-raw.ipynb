{
 "cells": [
  {
   "cell_type": "code",
   "execution_count": 1,
   "metadata": {},
   "outputs": [
    {
     "name": "stdout",
     "output_type": "stream",
     "text": [
      "The history saving thread hit an unexpected error (DatabaseError('database disk image is malformed')).History will not be written to the database.\n"
     ]
    }
   ],
   "source": [
    "import numpy as np\n",
    "import psana as ps\n",
    "import matplotlib.pyplot as plt\n",
    "import sys\n",
    "import time\n",
    "import pickle\n",
    "import os\n",
    "from raw_data_class import RawData as RDC\n",
    "from Functions import *\n",
    "%matplotlib notebook"
   ]
  },
  {
   "cell_type": "code",
   "execution_count": null,
   "metadata": {},
   "outputs": [
    {
     "name": "stdout",
     "output_type": "stream",
     "text": [
      "Data loaded in 260.7 seconds.rently on shot: 13622\n",
      "931 out of 14553 shots had empty values.\n",
      "Data loaded in 503.4 seconds.rently on shot: 24711\n",
      "1573 out of 26284 shots had empty values.\n",
      "Data loaded in 531.6 seconds.rently on shot: 22816\n",
      "1572 out of 24388 shots had empty values.\n",
      "Data loaded in 57.1 seconds.rrently on shot: 3024\n",
      "139 out of 3163 shots had empty values.\n",
      "Data loaded in 74.7 seconds.rrently on shot: 4061\n",
      "428 out of 4489 shots had empty values.\n",
      "Data loaded in 87.7 seconds.rrently on shot: 4120\n",
      "322 out of 4442 shots had empty values.\n",
      "Data loaded in 77.9 seconds.rrently on shot: 4654\n",
      "369 out of 5023 shots had empty values.\n",
      "Data loaded in 71.3 seconds.rrently on shot: 4217\n",
      "353 out of 4570 shots had empty values.\n",
      "No new runs. Last run processed: 19 | 2021-05-28 08:49:02.324992\n",
      "No new runs. Last run processed: 19 | 2021-05-28 08:49:02.325360\n",
      "No new runs. Last run processed: 25 | 2021-05-28 08:51:02.335160\n",
      "No new runs. Last run processed: 25 | 2021-05-28 08:51:02.335689\n",
      "No new runs. Last run processed: 25 | 2021-05-28 08:51:02.335871\n",
      "No new runs. Last run processed: 25 | 2021-05-28 08:51:02.336069\n",
      "No new runs. Last run processed: 25 | 2021-05-28 08:51:02.336204\n",
      "No new runs. Last run processed: 25 | 2021-05-28 08:51:02.336335\n",
      "No new runs. Last run processed: 25 | 2021-05-28 08:51:02.336465\n",
      "No new runs. Last run processed: 25 | 2021-05-28 08:51:02.336594\n",
      "No new runs. Last run processed: 25 | 2021-05-28 08:51:02.336724\n",
      "No new runs. Last run processed: 25 | 2021-05-28 08:51:02.336855\n",
      "Data loaded in 617.2 seconds.rently on shot: 28521\n",
      "2015 out of 30536 shots had empty values.\n",
      "Data loaded in 844.9 seconds.rently on shot: 38740\n",
      "3117 out of 41857 shots had empty values.\n",
      "Data loaded in 700.7 seconds.rently on shot: 32467\n",
      "2378 out of 34845 shots had empty values.\n",
      "Data loaded in 561.1 seconds.rently on shot: 26728\n",
      "1682 out of 28410 shots had empty values.\n",
      "Data loaded in 700.0 seconds.rently on shot: 30413\n",
      "1511 out of 31924 shots had empty values.\n",
      "Data loaded in 511.0 seconds.rently on shot: 23741\n",
      "1688 out of 25429 shots had empty values.\n",
      "No new runs. Last run processed: 27 | 2021-05-28 09:58:42.714841\n",
      "No new runs. Last run processed: 27 | 2021-05-28 09:58:42.715758\n",
      "No new runs. Last run processed: 27 | 2021-05-28 09:58:42.716317\n",
      "No new runs. Last run processed: 27 | 2021-05-28 09:58:42.717207\n",
      "No new runs. Last run processed: 27 | 2021-05-28 09:58:42.717839\n",
      "No new runs. Last run processed: 27 | 2021-05-28 09:58:42.718405\n",
      "No new runs. Last run processed: 27 | 2021-05-28 09:58:42.719012\n",
      "No new runs. Last run processed: 27 | 2021-05-28 09:58:42.719620\n",
      "No new runs. Last run processed: 27 | 2021-05-28 09:58:42.720254\n",
      "No new runs. Last run processed: 27 | 2021-05-28 09:58:42.720910\n",
      "No new runs. Last run processed: 27 | 2021-05-28 09:58:42.721823\n",
      "No new runs. Last run processed: 27 | 2021-05-28 09:58:42.722389\n",
      "No new runs. Last run processed: 27 | 2021-05-28 09:58:42.722953\n",
      "No new runs. Last run processed: 27 | 2021-05-28 09:58:42.723452\n",
      "No new runs. Last run processed: 27 | 2021-05-28 09:58:42.724142\n",
      "No new runs. Last run processed: 27 | 2021-05-28 09:58:42.724382\n",
      "Data loaded in 724.3 seconds.rently on shot: 33782\n",
      "2389 out of 36171 shots had empty values.\n",
      "Data loaded in 608.0 seconds.rently on shot: 28759\n",
      "1922 out of 30681 shots had empty values.\n",
      "No new runs. Last run processed: 27 | 2021-05-28 10:22:56.774428\n",
      "No new runs. Last run processed: 27 | 2021-05-28 10:22:56.775467\n",
      "No new runs. Last run processed: 27 | 2021-05-28 10:22:56.776205\n",
      "No new runs. Last run processed: 27 | 2021-05-28 10:22:56.776717\n",
      "No new runs. Last run processed: 27 | 2021-05-28 10:22:56.777164\n",
      "No new runs. Last run processed: 27 | 2021-05-28 10:22:56.777660\n",
      "No new runs. Last run processed: 27 | 2021-05-28 10:22:56.778113\n",
      "No new runs. Last run processed: 27 | 2021-05-28 10:22:56.778671\n",
      "No new runs. Last run processed: 27 | 2021-05-28 10:22:56.779140\n",
      "No new runs. Last run processed: 27 | 2021-05-28 10:22:56.779679\n",
      "No new runs. Last run processed: 27 | 2021-05-28 10:22:56.780103\n",
      "No new runs. Last run processed: 27 | 2021-05-28 10:22:56.780637\n",
      "No new runs. Last run processed: 27 | 2021-05-28 10:22:56.781057\n",
      "No new runs. Last run processed: 27 | 2021-05-28 10:22:56.781532\n",
      "No new runs. Last run processed: 27 | 2021-05-28 10:22:56.781953\n",
      "No new runs. Last run processed: 27 | 2021-05-28 10:22:56.782440\n",
      "No new runs. Last run processed: 27 | 2021-05-28 10:22:56.782849\n",
      "No new runs. Last run processed: 27 | 2021-05-28 10:22:56.783078\n",
      "No new runs. Last run processed: 27 | 2021-05-28 10:24:56.794731\n",
      "No new runs. Last run processed: 27 | 2021-05-28 10:24:56.795265\n",
      "No new runs. Last run processed: 27 | 2021-05-28 10:24:56.795356\n",
      "No new runs. Last run processed: 27 | 2021-05-28 10:24:56.795554\n",
      "No new runs. Last run processed: 27 | 2021-05-28 10:24:56.795727\n",
      "No new runs. Last run processed: 27 | 2021-05-28 10:24:56.795857\n",
      "No new runs. Last run processed: 27 | 2021-05-28 10:24:56.795994\n",
      "No new runs. Last run processed: 27 | 2021-05-28 10:24:56.796152\n",
      "No new runs. Last run processed: 27 | 2021-05-28 10:24:56.796279\n",
      "No new runs. Last run processed: 27 | 2021-05-28 10:24:56.796409\n",
      "No new runs. Last run processed: 27 | 2021-05-28 10:24:56.796536\n",
      "No new runs. Last run processed: 27 | 2021-05-28 10:24:56.796662\n",
      "No new runs. Last run processed: 27 | 2021-05-28 10:24:56.796787\n",
      "No new runs. Last run processed: 27 | 2021-05-28 10:24:56.796927\n",
      "No new runs. Last run processed: 27 | 2021-05-28 10:24:56.797054\n",
      "No new runs. Last run processed: 27 | 2021-05-28 10:24:56.797180\n",
      "No new runs. Last run processed: 27 | 2021-05-28 10:24:56.797307\n",
      "No new runs. Last run processed: 27 | 2021-05-28 10:24:56.797449\n"
     ]
    }
   ],
   "source": [
    "epix_roi= [95,140,233,340]\n",
    "xrt_roi = [400,1100]\n",
    "xtc_smd_dir = '/reg/d/psdm/cxi/cxilv2718/xtc/smalldata/'\n",
    "load_data_input = ['/reg/d/psdm/cxi/cxilv2718/results/data/',epix_roi,xrt_roi]\n",
    "i=1\n",
    "while i is 1:\n",
    "    monitor_files.monitor_and_process(xtc_smd_dir,load_data_input)\n",
    "    time.sleep(120)"
   ]
  },
  {
   "cell_type": "code",
   "execution_count": 48,
   "metadata": {},
   "outputs": [
    {
     "name": "stdout",
     "output_type": "stream",
     "text": [
      "['cxilv2718-r0001-s02-c00.smd.xtc', 'cxilv2718-r0001-s00-c00.smd.xtc', 'cxilv2718-r0002-s80-c00.smd.xtc', 'cxilv2718-r0001-s80-c00.smd.xtc', 'cxilv2718-r0002-s00-c00.smd.xtc', 'cxilv2718-r0002-s02-c00.smd.xtc', 'cxilv2718-r0002-s01-c00.smd.xtc', 'cxilv2718-r0001-s81-c00.smd.xtc', 'cxilv2718-r0002-s03-c00.smd.xtc', 'md5', 'cxilv2718-r0001-s03-c00.smd.xtc', 'cxilv2718-r0002-s81-c00.smd.xtc', 'cxilv2718-r0001-s01-c00.smd.xtc']\n",
      "[1 2]\n"
     ]
    }
   ],
   "source": [
    "save_dir = 1\n",
    "xtc_smd_dir = '/reg/d/psdm/cxi/cxilv2718/xtc/smalldata/'\n",
    "x = os.listdir(xtc_smd_dir)\n",
    "print(x)\n",
    "test = []\n",
    "# runs_in_dir = [test.append(any('r00' in x[i])) for i in range(0,len(x))]\n",
    "check_for = '-r'\n",
    "# any('r00') in x[0]\n",
    "any(check_for in files for files in x)\n",
    "test\n",
    "run_list = np.unique([int(x[i][11:15]) for i in range(0,len(x)) if check_for in x[i]])\n",
    "print(run_list)"
   ]
  },
  {
   "cell_type": "code",
   "execution_count": 26,
   "metadata": {},
   "outputs": [
    {
     "data": {
      "text/plain": [
       "'exp=cxix46119:run=2:smd'"
      ]
     },
     "execution_count": 26,
     "metadata": {},
     "output_type": "execute_result"
    }
   ],
   "source": [
    "x = os.listdir(xtc_smd_dir)\n",
    "nameSet = set(np.unique([int(x[i][11:15]) for i in range(0,len(x)) if '-r' in x[i]]))\n",
    "nameSet\n",
    "ds_string = 'exp=cxix46119:run='+str(2)+':smd'\n",
    "ds_string"
   ]
  },
  {
   "cell_type": "code",
   "execution_count": 27,
   "metadata": {},
   "outputs": [
    {
     "data": {
      "text/plain": [
       "[('XrayTransportDiagnostic.0:OrcaFl40.0', 'fee_spec', ''),\n",
       " ('NoDetector.0:Evr.1', 'evr1', ''),\n",
       " ('NoDetector.0:Evr.2', 'evr2', ''),\n",
       " ('EBeam', '', ''),\n",
       " ('PhaseCavity', '', ''),\n",
       " ('FEEGasDetEnergy', '', ''),\n",
       " ('FEE-SPEC0', '', ''),\n",
       " ('CXI-DG2-BMMON', '', ''),\n",
       " ('CXI-DG3-BMMON', '', ''),\n",
       " ('CxiDs1.0:Wave8.0', 'CXI-DG2-BMMON-WF', ''),\n",
       " ('CxiDs1.0:Wave8.1', 'CXI-SC1-BMMON-WF', ''),\n",
       " ('ControlData', '', '')]"
      ]
     },
     "execution_count": 27,
     "metadata": {},
     "output_type": "execute_result"
    }
   ],
   "source": [
    "ds = ps.DataSource(ds_string)\n",
    "\n",
    "events = []\n",
    "eventIDS = []\n",
    "for nevent, evt in enumerate(ds.events()):\n",
    "    eventIDS.append(nevent)\n",
    "    events.append(evt)\n",
    "# detNames = ps.DetNames()\n",
    "# for detname in DetNames(): \n",
    "#     print(detname)\n",
    "dir(events[3])\n",
    "ps.DetNames()"
   ]
  },
  {
   "cell_type": "code",
   "execution_count": 17,
   "metadata": {},
   "outputs": [
    {
     "name": "stdout",
     "output_type": "stream",
     "text": [
      "/reg/d/psdm/cxi/cxilv2718/results/data/run_10/rawdata.pkl\n",
      "/reg/d/psdm/cxi/cxilv2718/results/data/run_11/rawdata.pkl\n",
      "/reg/d/psdm/cxi/cxilv2718/results/data/run_12/rawdata.pkl\n",
      "/reg/d/psdm/cxi/cxilv2718/results/data/run_13/rawdata.pkl\n",
      "/reg/d/psdm/cxi/cxilv2718/results/data/run_14/rawdata.pkl\n",
      "/reg/d/psdm/cxi/cxilv2718/results/data/run_15/rawdata.pkl\n",
      "/reg/d/psdm/cxi/cxilv2718/results/data/run_16/rawdata.pkl\n",
      "/reg/d/psdm/cxi/cxilv2718/results/data/run_17/rawdata.pkl\n",
      "/reg/d/psdm/cxi/cxilv2718/results/data/run_18/rawdata.pkl\n"
     ]
    }
   ],
   "source": [
    "load_data_input = ['/reg/d/psdm/cxi/cxilv2718/results/data/',epix_roi,xrt_roi]\n",
    "xtc_smd_dir = '/reg/d/psdm/cxi/cxilv2718/xtc/smalldata/'\n",
    "ignore_runs = set([1,2,3,4,5,6,7,8,9])\n",
    "x = os.listdir(xtc_smd_dir)\n",
    "run_files = [int(x[i][11:15]) for i in range(0,len(x)) if '-r' in x[i]]\n",
    "unique_runs = np.unique(run_files)\n",
    "nameSet = set([unique_runs[i] for i in range(0,len(unique_runs)) if run_files.count(unique_runs[i]) == 4])\n",
    "nameSet = nameSet - ignore_runs\n",
    "newList = list(nameSet)\n",
    "newList.sort()\n",
    "for i in range(0,len(newList)):\n",
    "    scan_name = 'run_' + str(newList[i])\n",
    "    print(load_data_input[0] + scan_name + \"/\" + \"rawdata.pkl\")\n"
   ]
  }
 ],
 "metadata": {
  "kernelspec": {
   "display_name": "LCLS-I py3",
   "language": "python",
   "name": "ana1-current-py3"
  },
  "language_info": {
   "codemirror_mode": {
    "name": "ipython",
    "version": 3
   },
   "file_extension": ".py",
   "mimetype": "text/x-python",
   "name": "python",
   "nbconvert_exporter": "python",
   "pygments_lexer": "ipython3",
   "version": "3.7.10"
  }
 },
 "nbformat": 4,
 "nbformat_minor": 2
}
