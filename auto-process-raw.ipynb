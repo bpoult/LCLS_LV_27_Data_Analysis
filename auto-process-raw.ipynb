{
 "cells": [
  {
   "cell_type": "code",
   "execution_count": 1,
   "metadata": {},
   "outputs": [
    {
     "name": "stdout",
     "output_type": "stream",
     "text": [
      "The history saving thread hit an unexpected error (DatabaseError('database disk image is malformed')).History will not be written to the database.\n"
     ]
    }
   ],
   "source": [
    "import numpy as np\n",
    "import psana as ps\n",
    "import matplotlib.pyplot as plt\n",
    "import sys\n",
    "import time\n",
    "import pickle\n",
    "import os\n",
    "from raw_data_class import RawData as RDC\n",
    "from Functions import *\n",
    "%matplotlib notebook"
   ]
  },
  {
   "cell_type": "code",
   "execution_count": null,
   "metadata": {},
   "outputs": [
    {
     "name": "stdout",
     "output_type": "stream",
     "text": [
      "Data loaded in 73.6 seconds.hot: 33522021-05-28 00:52:25.485665\n",
      "345 out of 3697 shots had empty values.\n",
      "Data loaded in 24.5 seconds.hot: 11082021-05-28 00:58:39.710772\n",
      "142 out of 1250 shots had empty values.\n",
      "Data loaded in 50.8 seconds.hot: 24532021-05-28 01:09:04.638138\n",
      "63 out of 2516 shots had empty values.\n",
      "Data loaded in 76.5 seconds.hot: 31462021-05-28 02:14:56.947487\n",
      "43 out of 3189 shots had empty values.\n",
      "No new runs. Last run processed: 7 | 2021-05-28 04:16:15.647836\r"
     ]
    }
   ],
   "source": [
    "epix_roi = [80,140,170,330]\n",
    "xrt_roi = [725,1500]\n",
    "save_dir = '/reg/d/psdm/cxi/cxilv2718/results/run_lists/'\n",
    "xtc_smd_dir = '/reg/d/psdm/cxi/cxilv2718/xtc/smalldata/'\n",
    "load_data_input = ['/reg/d/psdm/cxi/cxilv2718/results/data/',epix_roi,xrt_roi]\n",
    "i=1\n",
    "while i is 1:\n",
    "    monitor_files.monitor_and_process(save_dir,xtc_smd_dir,load_data_input)\n",
    "    time.sleep(300)"
   ]
  },
  {
   "cell_type": "code",
   "execution_count": 48,
   "metadata": {},
   "outputs": [
    {
     "name": "stdout",
     "output_type": "stream",
     "text": [
      "['cxilv2718-r0001-s02-c00.smd.xtc', 'cxilv2718-r0001-s00-c00.smd.xtc', 'cxilv2718-r0002-s80-c00.smd.xtc', 'cxilv2718-r0001-s80-c00.smd.xtc', 'cxilv2718-r0002-s00-c00.smd.xtc', 'cxilv2718-r0002-s02-c00.smd.xtc', 'cxilv2718-r0002-s01-c00.smd.xtc', 'cxilv2718-r0001-s81-c00.smd.xtc', 'cxilv2718-r0002-s03-c00.smd.xtc', 'md5', 'cxilv2718-r0001-s03-c00.smd.xtc', 'cxilv2718-r0002-s81-c00.smd.xtc', 'cxilv2718-r0001-s01-c00.smd.xtc']\n",
      "[1 2]\n"
     ]
    }
   ],
   "source": [
    "save_dir = 1\n",
    "xtc_smd_dir = '/reg/d/psdm/cxi/cxilv2718/xtc/smalldata/'\n",
    "x = os.listdir(xtc_smd_dir)\n",
    "print(x)\n",
    "test = []\n",
    "# runs_in_dir = [test.append(any('r00' in x[i])) for i in range(0,len(x))]\n",
    "check_for = '-r'\n",
    "# any('r00') in x[0]\n",
    "any(check_for in files for files in x)\n",
    "test\n",
    "run_list = np.unique([int(x[i][11:15]) for i in range(0,len(x)) if check_for in x[i]])\n",
    "print(run_list)"
   ]
  },
  {
   "cell_type": "code",
   "execution_count": 26,
   "metadata": {},
   "outputs": [
    {
     "data": {
      "text/plain": [
       "'exp=cxix46119:run=2:smd'"
      ]
     },
     "execution_count": 26,
     "metadata": {},
     "output_type": "execute_result"
    }
   ],
   "source": [
    "x = os.listdir(xtc_smd_dir)\n",
    "nameSet = set(np.unique([int(x[i][11:15]) for i in range(0,len(x)) if '-r' in x[i]]))\n",
    "nameSet\n",
    "ds_string = 'exp=cxix46119:run='+str(2)+':smd'\n",
    "ds_string"
   ]
  },
  {
   "cell_type": "code",
   "execution_count": 27,
   "metadata": {},
   "outputs": [
    {
     "data": {
      "text/plain": [
       "[('XrayTransportDiagnostic.0:OrcaFl40.0', 'fee_spec', ''),\n",
       " ('NoDetector.0:Evr.1', 'evr1', ''),\n",
       " ('NoDetector.0:Evr.2', 'evr2', ''),\n",
       " ('EBeam', '', ''),\n",
       " ('PhaseCavity', '', ''),\n",
       " ('FEEGasDetEnergy', '', ''),\n",
       " ('FEE-SPEC0', '', ''),\n",
       " ('CXI-DG2-BMMON', '', ''),\n",
       " ('CXI-DG3-BMMON', '', ''),\n",
       " ('CxiDs1.0:Wave8.0', 'CXI-DG2-BMMON-WF', ''),\n",
       " ('CxiDs1.0:Wave8.1', 'CXI-SC1-BMMON-WF', ''),\n",
       " ('ControlData', '', '')]"
      ]
     },
     "execution_count": 27,
     "metadata": {},
     "output_type": "execute_result"
    }
   ],
   "source": [
    "ds = ps.DataSource(ds_string)\n",
    "\n",
    "events = []\n",
    "eventIDS = []\n",
    "for nevent, evt in enumerate(ds.events()):\n",
    "    eventIDS.append(nevent)\n",
    "    events.append(evt)\n",
    "# detNames = ps.DetNames()\n",
    "# for detname in DetNames(): \n",
    "#     print(detname)\n",
    "dir(events[3])\n",
    "ps.DetNames()"
   ]
  },
  {
   "cell_type": "code",
   "execution_count": 11,
   "metadata": {},
   "outputs": [
    {
     "data": {
      "text/plain": [
       "4"
      ]
     },
     "execution_count": 11,
     "metadata": {},
     "output_type": "execute_result"
    }
   ],
   "source": [
    "a=[1,1,1,1,4,4,4,4,5,5]\n",
    "b=[1,4,5]\n",
    "a.count(1)\n",
    "# if len(run_files[run_files==unique_runs[i]] == 4:\n"
   ]
  }
 ],
 "metadata": {
  "kernelspec": {
   "display_name": "LCLS-I py3",
   "language": "python",
   "name": "ana1-current-py3"
  },
  "language_info": {
   "codemirror_mode": {
    "name": "ipython",
    "version": 3
   },
   "file_extension": ".py",
   "mimetype": "text/x-python",
   "name": "python",
   "nbconvert_exporter": "python",
   "pygments_lexer": "ipython3",
   "version": "3.7.10"
  }
 },
 "nbformat": 4,
 "nbformat_minor": 2
}
