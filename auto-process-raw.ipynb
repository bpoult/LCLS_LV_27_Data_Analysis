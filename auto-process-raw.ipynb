{
 "cells": [
  {
   "cell_type": "code",
   "execution_count": 2,
   "metadata": {},
   "outputs": [],
   "source": [
    "import numpy as np\n",
    "import psana as ps\n",
    "import matplotlib.pyplot as plt\n",
    "import sys\n",
    "import time\n",
    "import pickle\n",
    "import os\n",
    "from raw_data_class import RawData as RDC\n",
    "from Functions import *\n",
    "%matplotlib notebook\n"
   ]
  },
  {
   "cell_type": "code",
   "execution_count": 12,
   "metadata": {},
   "outputs": [
    {
     "name": "stdout",
     "output_type": "stream",
     "text": [
      "Data loaded in 755.1 seconds.rrently on shot: 33684\n",
      "2360 out of 36044 shots had empty values.\n",
      "Data loaded in 686.8 seconds.rrently on shot: 31512\n",
      "1572 out of 33084 shots had empty values.\n",
      "Data loaded in 112.7 seconds.rrently on shot: 5789\n",
      "438 out of 6227 shots had empty values.\n",
      "No new runs. Last run processed: 240 | 2021-05-31 13:23:27.272905\n",
      "Data loaded in 646.4 seconds.rrently on shot: 35591\n",
      "1089 out of 36680 shots had empty values.\n",
      "Data loaded in 591.2 seconds.rrently on shot: 34247\n",
      "2080 out of 36327 shots had empty values.\n",
      "No new runs. Last run processed: 244 | 2021-05-31 13:45:06.953638\n",
      "Data loaded in 551.2 seconds.rrently on shot: 33956\n",
      "1084 out of 35040 shots had empty values.\n",
      "Data loaded in 573.8 seconds.rrently on shot: 34070\n",
      "970 out of 35040 shots had empty values.\n",
      "No new runs. Last run processed: 248 | 2021-05-31 14:04:54.401490\n",
      "Data loaded in 613.7 seconds.rrently on shot: 33269\n",
      "1771 out of 35040 shots had empty values.\n",
      "Loading run run_252 : ...  Currently on shot: 6967\r"
     ]
    },
    {
     "ename": "KeyboardInterrupt",
     "evalue": "",
     "output_type": "error",
     "traceback": [
      "\u001b[0;31m---------------------------------------------------------------------------\u001b[0m",
      "\u001b[0;31mKeyboardInterrupt\u001b[0m                         Traceback (most recent call last)",
      "\u001b[0;32m<ipython-input-12-8cd00a0a0daf>\u001b[0m in \u001b[0;36m<module>\u001b[0;34m\u001b[0m\n\u001b[1;32m      5\u001b[0m \u001b[0mi\u001b[0m\u001b[0;34m=\u001b[0m\u001b[0;36m1\u001b[0m\u001b[0;34m\u001b[0m\u001b[0;34m\u001b[0m\u001b[0m\n\u001b[1;32m      6\u001b[0m \u001b[0;32mwhile\u001b[0m \u001b[0mi\u001b[0m \u001b[0;32mis\u001b[0m \u001b[0;36m1\u001b[0m\u001b[0;34m:\u001b[0m\u001b[0;34m\u001b[0m\u001b[0;34m\u001b[0m\u001b[0m\n\u001b[0;32m----> 7\u001b[0;31m     \u001b[0mmonitor_files\u001b[0m\u001b[0;34m.\u001b[0m\u001b[0mmonitor_and_process\u001b[0m\u001b[0;34m(\u001b[0m\u001b[0mxtc_smd_dir\u001b[0m\u001b[0;34m,\u001b[0m\u001b[0mload_data_input\u001b[0m\u001b[0;34m)\u001b[0m\u001b[0;34m\u001b[0m\u001b[0;34m\u001b[0m\u001b[0m\n\u001b[0m\u001b[1;32m      8\u001b[0m     \u001b[0mtime\u001b[0m\u001b[0;34m.\u001b[0m\u001b[0msleep\u001b[0m\u001b[0;34m(\u001b[0m\u001b[0;36m60\u001b[0m\u001b[0;34m)\u001b[0m\u001b[0;34m\u001b[0m\u001b[0;34m\u001b[0m\u001b[0m\n",
      "\u001b[0;32m/reg/data/ana16/cxi/cxilv2718/results/LCLS_LV_27_Data_Analysis/Functions/monitor_files.py\u001b[0m in \u001b[0;36mmonitor_and_process\u001b[0;34m(xtc_smd_dir, load_data_input)\u001b[0m\n\u001b[1;32m     43\u001b[0m         \u001b[0;32mif\u001b[0m \u001b[0;32mnot\u001b[0m \u001b[0mos\u001b[0m\u001b[0;34m.\u001b[0m\u001b[0mpath\u001b[0m\u001b[0;34m.\u001b[0m\u001b[0mexists\u001b[0m\u001b[0;34m(\u001b[0m\u001b[0mload_data_input\u001b[0m\u001b[0;34m[\u001b[0m\u001b[0;36m0\u001b[0m\u001b[0;34m]\u001b[0m \u001b[0;34m+\u001b[0m \u001b[0mscan_name\u001b[0m \u001b[0;34m+\u001b[0m \u001b[0;34m\"/\"\u001b[0m \u001b[0;34m+\u001b[0m \u001b[0;34m\"rawdata.pkl\"\u001b[0m\u001b[0;34m)\u001b[0m\u001b[0;34m:\u001b[0m\u001b[0;34m\u001b[0m\u001b[0;34m\u001b[0m\u001b[0m\n\u001b[1;32m     44\u001b[0m             \u001b[0mds_string\u001b[0m \u001b[0;34m=\u001b[0m \u001b[0;34m'exp=cxilv2718:run='\u001b[0m\u001b[0;34m+\u001b[0m\u001b[0mstr\u001b[0m\u001b[0;34m(\u001b[0m\u001b[0mnewList\u001b[0m\u001b[0;34m[\u001b[0m\u001b[0mi\u001b[0m\u001b[0;34m]\u001b[0m\u001b[0;34m)\u001b[0m\u001b[0;34m+\u001b[0m\u001b[0;34m':smd'\u001b[0m\u001b[0;34m\u001b[0m\u001b[0;34m\u001b[0m\u001b[0m\n\u001b[0;32m---> 45\u001b[0;31m             \u001b[0mraw_data\u001b[0m \u001b[0;34m=\u001b[0m \u001b[0mload_data\u001b[0m\u001b[0;34m(\u001b[0m\u001b[0mload_data_input\u001b[0m\u001b[0;34m[\u001b[0m\u001b[0;36m0\u001b[0m\u001b[0;34m]\u001b[0m\u001b[0;34m,\u001b[0m\u001b[0mscan_name\u001b[0m\u001b[0;34m,\u001b[0m\u001b[0mds_string\u001b[0m\u001b[0;34m,\u001b[0m\u001b[0mload_data_input\u001b[0m\u001b[0;34m[\u001b[0m\u001b[0;36m1\u001b[0m\u001b[0;34m]\u001b[0m\u001b[0;34m,\u001b[0m\u001b[0mload_data_input\u001b[0m\u001b[0;34m[\u001b[0m\u001b[0;36m2\u001b[0m\u001b[0;34m]\u001b[0m\u001b[0;34m)\u001b[0m\u001b[0;34m\u001b[0m\u001b[0;34m\u001b[0m\u001b[0m\n\u001b[0m\u001b[1;32m     46\u001b[0m             \u001b[0mlast_run_pro\u001b[0m \u001b[0;34m=\u001b[0m \u001b[0mnewList\u001b[0m\u001b[0;34m[\u001b[0m\u001b[0mi\u001b[0m\u001b[0;34m]\u001b[0m\u001b[0;34m\u001b[0m\u001b[0;34m\u001b[0m\u001b[0m\n\u001b[1;32m     47\u001b[0m             \u001b[0;32mcontinue\u001b[0m\u001b[0;34m\u001b[0m\u001b[0;34m\u001b[0m\u001b[0m\n",
      "\u001b[0;32m/reg/data/ana16/cxi/cxilv2718/results/LCLS_LV_27_Data_Analysis/Functions/load_data.py\u001b[0m in \u001b[0;36mload_data\u001b[0;34m(save_dir, scan_name, ds_string, epix_roi, xrt_roi)\u001b[0m\n\u001b[1;32m     43\u001b[0m \u001b[0;34m\u001b[0m\u001b[0m\n\u001b[1;32m     44\u001b[0m     \u001b[0;32mfor\u001b[0m \u001b[0mnevent\u001b[0m\u001b[0;34m,\u001b[0m \u001b[0mevt\u001b[0m \u001b[0;32min\u001b[0m \u001b[0menumerate\u001b[0m\u001b[0;34m(\u001b[0m\u001b[0mds\u001b[0m\u001b[0;34m.\u001b[0m\u001b[0mevents\u001b[0m\u001b[0;34m(\u001b[0m\u001b[0;34m)\u001b[0m\u001b[0;34m)\u001b[0m\u001b[0;34m:\u001b[0m\u001b[0;34m\u001b[0m\u001b[0;34m\u001b[0m\u001b[0m\n\u001b[0;32m---> 45\u001b[0;31m         \u001b[0mepix_evt\u001b[0m \u001b[0;34m=\u001b[0m \u001b[0mepix\u001b[0m\u001b[0;34m.\u001b[0m\u001b[0mcalib_data\u001b[0m\u001b[0;34m(\u001b[0m\u001b[0mevt\u001b[0m\u001b[0;34m)\u001b[0m\u001b[0;34m\u001b[0m\u001b[0;34m\u001b[0m\u001b[0m\n\u001b[0m\u001b[1;32m     46\u001b[0m         \u001b[0mxrt_evt\u001b[0m \u001b[0;34m=\u001b[0m \u001b[0mXRT\u001b[0m\u001b[0;34m.\u001b[0m\u001b[0mget\u001b[0m\u001b[0;34m(\u001b[0m\u001b[0mevt\u001b[0m\u001b[0;34m)\u001b[0m\u001b[0;34m\u001b[0m\u001b[0;34m\u001b[0m\u001b[0m\n\u001b[1;32m     47\u001b[0m         \u001b[0mwave8_evt\u001b[0m \u001b[0;34m=\u001b[0m \u001b[0mwave8\u001b[0m\u001b[0;34m.\u001b[0m\u001b[0mget\u001b[0m\u001b[0;34m(\u001b[0m\u001b[0mevt\u001b[0m\u001b[0;34m)\u001b[0m\u001b[0;34m\u001b[0m\u001b[0;34m\u001b[0m\u001b[0m\n",
      "\u001b[0;32m/cds/sw/ds/ana/conda1/inst/envs/ana-4.0.23-py3/lib/python3.7/site-packages/Detector/AreaDetector.py\u001b[0m in \u001b[0;36mcalib_data\u001b[0;34m(self, evt)\u001b[0m\n\u001b[1;32m    943\u001b[0m \u001b[0;34m\u001b[0m\u001b[0m\n\u001b[1;32m    944\u001b[0m     \u001b[0;32mdef\u001b[0m \u001b[0mcalib_data\u001b[0m\u001b[0;34m(\u001b[0m\u001b[0mself\u001b[0m\u001b[0;34m,\u001b[0m \u001b[0mevt\u001b[0m\u001b[0;34m)\u001b[0m \u001b[0;34m:\u001b[0m\u001b[0;34m\u001b[0m\u001b[0;34m\u001b[0m\u001b[0m\n\u001b[0;32m--> 945\u001b[0;31m         \u001b[0;32mreturn\u001b[0m \u001b[0mself\u001b[0m\u001b[0;34m.\u001b[0m\u001b[0mcalib\u001b[0m\u001b[0;34m(\u001b[0m\u001b[0mevt\u001b[0m\u001b[0;34m)\u001b[0m\u001b[0;34m\u001b[0m\u001b[0;34m\u001b[0m\u001b[0m\n\u001b[0m\u001b[1;32m    946\u001b[0m \u001b[0;34m\u001b[0m\u001b[0m\n\u001b[1;32m    947\u001b[0m \u001b[0;31m##-----------------------------\u001b[0m\u001b[0;34m\u001b[0m\u001b[0;34m\u001b[0m\u001b[0;34m\u001b[0m\u001b[0m\n",
      "\u001b[0;32m/cds/sw/ds/ana/conda1/inst/envs/ana-4.0.23-py3/lib/python3.7/site-packages/Detector/AreaDetector.py\u001b[0m in \u001b[0;36mcalib\u001b[0;34m(self, evt, cmpars, mbits, **kwargs)\u001b[0m\n\u001b[1;32m   1001\u001b[0m         \u001b[0;32mif\u001b[0m \u001b[0mself\u001b[0m\u001b[0;34m.\u001b[0m\u001b[0mis_epix10ka_any\u001b[0m\u001b[0;34m(\u001b[0m\u001b[0;34m)\u001b[0m\u001b[0;34m:\u001b[0m\u001b[0;34m\u001b[0m\u001b[0;34m\u001b[0m\u001b[0m\n\u001b[1;32m   1002\u001b[0m             \u001b[0mkwargs\u001b[0m\u001b[0;34m[\u001b[0m\u001b[0;34m'mbits'\u001b[0m\u001b[0;34m]\u001b[0m\u001b[0;34m=\u001b[0m\u001b[0mmbits\u001b[0m\u001b[0;34m\u001b[0m\u001b[0;34m\u001b[0m\u001b[0m\n\u001b[0;32m-> 1003\u001b[0;31m             \u001b[0;32mreturn\u001b[0m \u001b[0mcalib_epix10ka_any\u001b[0m\u001b[0;34m(\u001b[0m\u001b[0mself\u001b[0m\u001b[0;34m,\u001b[0m \u001b[0mevt\u001b[0m\u001b[0;34m,\u001b[0m \u001b[0mcmpars\u001b[0m\u001b[0;34m,\u001b[0m \u001b[0;34m**\u001b[0m\u001b[0mkwargs\u001b[0m\u001b[0;34m)\u001b[0m\u001b[0;34m\u001b[0m\u001b[0;34m\u001b[0m\u001b[0m\n\u001b[0m\u001b[1;32m   1004\u001b[0m \u001b[0;34m\u001b[0m\u001b[0m\n\u001b[1;32m   1005\u001b[0m         \u001b[0mrnum\u001b[0m \u001b[0;34m=\u001b[0m \u001b[0mself\u001b[0m\u001b[0;34m.\u001b[0m\u001b[0mrunnum\u001b[0m\u001b[0;34m(\u001b[0m\u001b[0mevt\u001b[0m\u001b[0;34m)\u001b[0m\u001b[0;34m\u001b[0m\u001b[0;34m\u001b[0m\u001b[0m\n",
      "\u001b[0;32m/cds/sw/ds/ana/conda1/inst/envs/ana-4.0.23-py3/lib/python3.7/site-packages/Detector/UtilsEpix10ka.py\u001b[0m in \u001b[0;36mcalib_epix10ka_any\u001b[0;34m(det, evt, cmpars, **kwa)\u001b[0m\n\u001b[1;32m    358\u001b[0m \u001b[0;34m\u001b[0m\u001b[0m\n\u001b[1;32m    359\u001b[0m     \u001b[0mnda_raw\u001b[0m \u001b[0;34m=\u001b[0m \u001b[0mkwa\u001b[0m\u001b[0;34m.\u001b[0m\u001b[0mget\u001b[0m\u001b[0;34m(\u001b[0m\u001b[0;34m'nda_raw'\u001b[0m\u001b[0;34m,\u001b[0m \u001b[0;32mNone\u001b[0m\u001b[0;34m)\u001b[0m\u001b[0;34m\u001b[0m\u001b[0;34m\u001b[0m\u001b[0m\n\u001b[0;32m--> 360\u001b[0;31m     \u001b[0mraw\u001b[0m \u001b[0;34m=\u001b[0m \u001b[0mdet\u001b[0m\u001b[0;34m.\u001b[0m\u001b[0mraw\u001b[0m\u001b[0;34m(\u001b[0m\u001b[0mevt\u001b[0m\u001b[0;34m)\u001b[0m \u001b[0;32mif\u001b[0m \u001b[0mnda_raw\u001b[0m \u001b[0;32mis\u001b[0m \u001b[0;32mNone\u001b[0m \u001b[0;32melse\u001b[0m \u001b[0mnda_raw\u001b[0m \u001b[0;31m# shape:(352, 384) or suppose to be later (<nsegs>, 352, 384) dtype:uint16\u001b[0m\u001b[0;34m\u001b[0m\u001b[0;34m\u001b[0m\u001b[0m\n\u001b[0m\u001b[1;32m    361\u001b[0m     \u001b[0;32mif\u001b[0m \u001b[0mraw\u001b[0m \u001b[0;32mis\u001b[0m \u001b[0;32mNone\u001b[0m\u001b[0;34m:\u001b[0m \u001b[0;32mreturn\u001b[0m \u001b[0;32mNone\u001b[0m\u001b[0;34m\u001b[0m\u001b[0;34m\u001b[0m\u001b[0m\n\u001b[1;32m    362\u001b[0m \u001b[0;34m\u001b[0m\u001b[0m\n",
      "\u001b[0;32m/cds/sw/ds/ana/conda1/inst/envs/ana-4.0.23-py3/lib/python3.7/site-packages/Detector/AreaDetector.py\u001b[0m in \u001b[0;36mraw\u001b[0;34m(self, evt)\u001b[0m\n\u001b[1;32m    862\u001b[0m         \u001b[0;31m#    else :                             rdata = self.da.data_uint16_2(evt, self.env)\u001b[0m\u001b[0;34m\u001b[0m\u001b[0;34m\u001b[0m\u001b[0;34m\u001b[0m\u001b[0m\n\u001b[1;32m    863\u001b[0m         \u001b[0;31m#else:\u001b[0m\u001b[0;34m\u001b[0m\u001b[0;34m\u001b[0m\u001b[0;34m\u001b[0m\u001b[0m\n\u001b[0;32m--> 864\u001b[0;31m         \u001b[0mrdata\u001b[0m \u001b[0;34m=\u001b[0m \u001b[0mself\u001b[0m\u001b[0;34m.\u001b[0m\u001b[0mpyda\u001b[0m\u001b[0;34m.\u001b[0m\u001b[0mraw_data\u001b[0m\u001b[0;34m(\u001b[0m\u001b[0mevt\u001b[0m\u001b[0;34m,\u001b[0m \u001b[0mself\u001b[0m\u001b[0;34m.\u001b[0m\u001b[0menv\u001b[0m\u001b[0;34m)\u001b[0m\u001b[0;34m\u001b[0m\u001b[0;34m\u001b[0m\u001b[0m\n\u001b[0m\u001b[1;32m    865\u001b[0m \u001b[0;34m\u001b[0m\u001b[0m\n\u001b[1;32m    866\u001b[0m         \u001b[0;32mif\u001b[0m \u001b[0mrdata\u001b[0m \u001b[0;32mis\u001b[0m \u001b[0;32mnot\u001b[0m \u001b[0;32mNone\u001b[0m \u001b[0;34m:\u001b[0m \u001b[0;32mreturn\u001b[0m \u001b[0mself\u001b[0m\u001b[0;34m.\u001b[0m\u001b[0m_shaped_array_\u001b[0m\u001b[0;34m(\u001b[0m\u001b[0mself\u001b[0m\u001b[0;34m.\u001b[0m\u001b[0mrunnum\u001b[0m\u001b[0;34m(\u001b[0m\u001b[0mevt\u001b[0m\u001b[0;34m)\u001b[0m\u001b[0;34m,\u001b[0m \u001b[0mrdata\u001b[0m\u001b[0;34m)\u001b[0m\u001b[0;34m\u001b[0m\u001b[0;34m\u001b[0m\u001b[0m\n",
      "\u001b[0;32m/cds/sw/ds/ana/conda1/inst/envs/ana-4.0.23-py3/lib/python3.7/site-packages/Detector/PyDetectorAccess.py\u001b[0m in \u001b[0;36mraw_data\u001b[0;34m(self, evt, env)\u001b[0m\n\u001b[1;32m    696\u001b[0m         elif self.dettype in (gu.EPIX100A, gu.EPIX10K, gu.EPIX10KA,\n\u001b[1;32m    697\u001b[0m                               gu.EPIX10KA2M, gu.EPIX10KAQUAD, gu.EPIX)\\\n\u001b[0;32m--> 698\u001b[0;31m                                           \u001b[0;34m:\u001b[0m \u001b[0;32mreturn\u001b[0m \u001b[0mself\u001b[0m\u001b[0;34m.\u001b[0m\u001b[0mraw_data_epix\u001b[0m\u001b[0;34m(\u001b[0m\u001b[0mevt\u001b[0m\u001b[0;34m,\u001b[0m \u001b[0menv\u001b[0m\u001b[0;34m)\u001b[0m\u001b[0;34m\u001b[0m\u001b[0;34m\u001b[0m\u001b[0m\n\u001b[0m\u001b[1;32m    699\u001b[0m         elif self.dettype in (gu.OPAL1000, gu.OPAL2000, gu.OPAL4000, gu.OPAL8000,\n\u001b[1;32m    700\u001b[0m                               \u001b[0mgu\u001b[0m\u001b[0;34m.\u001b[0m\u001b[0mORCAFL40\u001b[0m\u001b[0;34m,\u001b[0m \u001b[0mgu\u001b[0m\u001b[0;34m.\u001b[0m\u001b[0mTM6740\u001b[0m\u001b[0;34m,\u001b[0m \u001b[0mgu\u001b[0m\u001b[0;34m.\u001b[0m\u001b[0mQUARTZ4A150\u001b[0m\u001b[0;34m,\u001b[0m \u001b[0mgu\u001b[0m\u001b[0;34m.\u001b[0m\u001b[0mRAYONIX\u001b[0m\u001b[0;34m,\u001b[0m\u001b[0;34m\u001b[0m\u001b[0;34m\u001b[0m\u001b[0m\n",
      "\u001b[0;32m/cds/sw/ds/ana/conda1/inst/envs/ana-4.0.23-py3/lib/python3.7/site-packages/Detector/PyDetectorAccess.py\u001b[0m in \u001b[0;36mraw_data_epix\u001b[0;34m(self, evt, env)\u001b[0m\n\u001b[1;32m    930\u001b[0m     \u001b[0;32mdef\u001b[0m \u001b[0mraw_data_epix\u001b[0m\u001b[0;34m(\u001b[0m\u001b[0mself\u001b[0m\u001b[0;34m,\u001b[0m \u001b[0mevt\u001b[0m\u001b[0;34m,\u001b[0m \u001b[0menv\u001b[0m\u001b[0;34m)\u001b[0m\u001b[0;34m:\u001b[0m\u001b[0;34m\u001b[0m\u001b[0;34m\u001b[0m\u001b[0m\n\u001b[1;32m    931\u001b[0m         \u001b[0;31m# data object\u001b[0m\u001b[0;34m\u001b[0m\u001b[0;34m\u001b[0m\u001b[0;34m\u001b[0m\u001b[0m\n\u001b[0;32m--> 932\u001b[0;31m         \u001b[0md\u001b[0m \u001b[0;34m=\u001b[0m \u001b[0mpda\u001b[0m\u001b[0;34m.\u001b[0m\u001b[0mget_epix_data_object\u001b[0m\u001b[0;34m(\u001b[0m\u001b[0mevt\u001b[0m\u001b[0;34m,\u001b[0m \u001b[0mself\u001b[0m\u001b[0;34m.\u001b[0m\u001b[0msource\u001b[0m\u001b[0;34m)\u001b[0m\u001b[0;34m\u001b[0m\u001b[0;34m\u001b[0m\u001b[0m\n\u001b[0m\u001b[1;32m    933\u001b[0m         \u001b[0;32mif\u001b[0m \u001b[0md\u001b[0m \u001b[0;32mis\u001b[0m \u001b[0;32mNone\u001b[0m\u001b[0;34m:\u001b[0m \u001b[0;32mreturn\u001b[0m \u001b[0;32mNone\u001b[0m\u001b[0;34m\u001b[0m\u001b[0;34m\u001b[0m\u001b[0m\n\u001b[1;32m    934\u001b[0m \u001b[0;34m\u001b[0m\u001b[0m\n",
      "\u001b[0;32m/cds/sw/ds/ana/conda1/inst/envs/ana-4.0.23-py3/lib/python3.7/site-packages/Detector/PyDataAccess.py\u001b[0m in \u001b[0;36mget_epix_data_object\u001b[0;34m(evt, src)\u001b[0m\n\u001b[1;32m    243\u001b[0m     \"\"\"get epix data object\n\u001b[1;32m    244\u001b[0m     \"\"\"\n\u001b[0;32m--> 245\u001b[0;31m     \u001b[0mo\u001b[0m \u001b[0;34m=\u001b[0m \u001b[0mevt\u001b[0m\u001b[0;34m.\u001b[0m\u001b[0mget\u001b[0m\u001b[0;34m(\u001b[0m\u001b[0m_psana\u001b[0m\u001b[0;34m.\u001b[0m\u001b[0mEpix\u001b[0m\u001b[0;34m.\u001b[0m\u001b[0mElementV3\u001b[0m\u001b[0;34m,\u001b[0m \u001b[0msrc\u001b[0m\u001b[0;34m)\u001b[0m\u001b[0;34m\u001b[0m\u001b[0;34m\u001b[0m\u001b[0m\n\u001b[0m\u001b[1;32m    246\u001b[0m     \u001b[0;32mif\u001b[0m \u001b[0mo\u001b[0m \u001b[0;32mis\u001b[0m \u001b[0;32mnot\u001b[0m \u001b[0;32mNone\u001b[0m \u001b[0;34m:\u001b[0m \u001b[0;32mreturn\u001b[0m \u001b[0mo\u001b[0m\u001b[0;34m\u001b[0m\u001b[0;34m\u001b[0m\u001b[0m\n\u001b[1;32m    247\u001b[0m \u001b[0;34m\u001b[0m\u001b[0m\n",
      "\u001b[0;31mKeyboardInterrupt\u001b[0m: "
     ]
    }
   ],
   "source": [
    "epix_roi= [95,145,205,305]\n",
    "xrt_roi = [300,1100]\n",
    "xtc_smd_dir = '/reg/d/psdm/cxi/cxilv2718/xtc/smalldata/'\n",
    "load_data_input = ['/reg/d/psdm/cxi/cxilv2718/results/data/',epix_roi,xrt_roi]\n",
    "i=1\n",
    "while i is 1:\n",
    "    monitor_files.monitor_and_process(xtc_smd_dir,load_data_input)\n",
    "    time.sleep(60)"
   ]
  },
  {
   "cell_type": "code",
   "execution_count": null,
   "metadata": {},
   "outputs": [],
   "source": [
    "save_dir = 1\n",
    "xtc_smd_dir = '/reg/d/psdm/cxi/cxilv2718/xtc/smalldata/'\n",
    "x = os.listdir(xtc_smd_dir)\n",
    "print(x)\n",
    "test = []\n",
    "# runs_in_dir = [test.append(any('r00' in x[i])) for i in range(0,len(x))]\n",
    "check_for = '-r'\n",
    "# any('r00') in x[0]\n",
    "any(check_for in files for files in x)\n",
    "test\n",
    "run_list = np.unique([int(x[i][11:15]) for i in range(0,len(x)) if check_for in x[i]])\n",
    "print(run_list)"
   ]
  },
  {
   "cell_type": "code",
   "execution_count": null,
   "metadata": {},
   "outputs": [],
   "source": [
    "x = os.listdir(xtc_smd_dir)\n",
    "nameSet = set(np.unique([int(x[i][11:15]) for i in range(0,len(x)) if '-r' in x[i]]))\n",
    "nameSet\n",
    "ds_string = 'exp=cxix46119:run='+str(2)+':smd'\n",
    "ds_string"
   ]
  },
  {
   "cell_type": "code",
   "execution_count": null,
   "metadata": {},
   "outputs": [],
   "source": [
    "ds = ps.DataSource(ds_string)\n",
    "\n",
    "events = []\n",
    "eventIDS = []\n",
    "for nevent, evt in enumerate(ds.events()):\n",
    "    eventIDS.append(nevent)\n",
    "    events.append(evt)\n",
    "# detNames = ps.DetNames()\n",
    "# for detname in DetNames(): \n",
    "#     print(detname)\n",
    "dir(events[3])\n",
    "ps.DetNames()"
   ]
  },
  {
   "cell_type": "code",
   "execution_count": null,
   "metadata": {
    "scrolled": false
   },
   "outputs": [],
   "source": [
    "save_dir = '/reg/d/psdm/cxi/cxilv2718/results/data/'\n",
    "runs = [10,12]\n",
    "plot_one = 10\n",
    "scan_name = 'run_'+ str(plot_one)\n",
    "x_axis='energy'\n",
    "save_dir = '/reg/d/psdm/cxi/cxilv2718/results/data/'\n",
    "calib_dir = '/reg/d/psdm/cxi/cxilv2718/results/calibrations/'\n",
    "calibration_file = 'calibration_1'\n",
    "to_cal_file = [calib_dir, calibration_file]\n",
    "# Processing or Loading\n",
    "process_raw = False\n",
    "on_off = True # Do you want to plot the raw data?\n",
    "raw_datas = []\n",
    "stack_scans = True\n",
    "\n",
    "for run in runs:\n",
    "    scan_name = 'run_' + str(run)\n",
    "    with open(save_dir + scan_name + \"/\" + \"rawdata.pkl\", \"rb\") as f:\n",
    "        raw_data = pickle.load(f)\n",
    "    raw_datas = [raw_datas] + raw_data\n",
    "\n",
    "# plot_raw.plot_raw(raw_datas, plot_one, x_axis, on_off,to_cal_file)\n",
    "plt.figure()"
   ]
  },
  {
   "cell_type": "code",
   "execution_count": null,
   "metadata": {
    "scrolled": false
   },
   "outputs": [],
   "source": [
    "save_dir = '/reg/d/psdm/cxi/cxilv2718/results/data/'\n",
    "scan_name = 'run_10'\n",
    "with open(save_dir + scan_name + \"/\" + \"rawdata.pkl\", \"rb\") as f:\n",
    "    raw_data = pickle.load(f)\n",
    "# var_x = getattr(raw_data,filt_param[2][0])\n",
    "# var_y = getattr(raw_data,filt_param[2][1])\n",
    "# var_x = var_x\n",
    "# var_y = var_y\n",
    "# lin_fit = np.polyfit(var_x[bounds_conds], var_y[bounds_conds], 1)\n",
    "# cond_lin_high = var_y < var_x * lin_fit[0] + lin_fit[1] + filt_param[2][2]\n",
    "# cond_lin_low = var_y > var_x * lin_fit[0] + lin_fit[1] - filt_param[2][2]\n",
    "# condition = cond_lin_high & cond_lin_low\n",
    "# if np.logical_and(filt_param[3][0],'run_'+str(filt_param[3][1])==getattr(raw_data,'scan_name')):\n",
    "# plt.figure()\n",
    "# plt.scatter(var_x,var_y,alpha=0.95)\n",
    "# plt.scatter(var_x[condition],var_y[condition],alpha=0.05)\n",
    "# plt.title(filt_param[1]+' '+filt_param[2][0] +' vs '+ filt_param[2][1])\n",
    "# plt.show()\n",
    "# low_diode_us = raw_data.low_diode_us\n",
    "# xrt_I = raw_data.xrt_intensity\n",
    "# xrt_I = xrt_I[:,np.newaxis]\n",
    "# a, _, _, _ = np.linalg.lstsq(xrt_I,low_diode_us)\n",
    "plot_one = 10\n",
    "# plt.figure()\n",
    "# plt.plot(xrt_I,low_diode_us)\n",
    "# plt.plot(xrt_I,a*xrt_I)\n",
    "# filt0 = [True,'bounds',['low_diode_us',0.1,'None',2],[False,plot_one]]\n",
    "\n",
    "filt_param = [True,'linearity',['low_diode_us','xrt_intensity',0.15,True],[True,plot_one]]\n",
    "filters = [filt_param]\n",
    "# filters[0][2]\n",
    "conditions,test = Filters.filtering(raw_data,filters,True)\n",
    "# var_x = getattr(raw_data,filt_param[2][0])\n",
    "# var_y = getattr(raw_data,filt_param[2][1])\n",
    "#     scale = np.max([var_x,var_y])\n",
    "#     if filt_param[2][3]:\n",
    "#         var_x = var_x[:,np.newaxis]\n",
    "#         m, _, _, _ = np.linalg.lstsq(var_x[bounds_conds],var_y[bounds_conds])\n",
    "#         var_x =np.squeeze(var_x)\n",
    "#         cond_lin_high = var_y < var_x * m + filt_param[2][2]*scale\n",
    "#         cond_lin_low = var_y > var_x * m - filt_param[2][2]*scale\n",
    "#         condition = cond_lin_high & cond_lin_low\n",
    "#     else:\n",
    "#         var_x = var_x\n",
    "#         var_y = var_y\n",
    "#         lin_fit = np.polyfit(var_x[bounds_conds], var_y[bounds_conds], 1)\n",
    "#         cond_lin_high = var_y < var_x * lin_fit[0] + lin_fit[1] + filt_param[2][2]*scale\n",
    "#         cond_lin_low = var_y > var_x * lin_fit[0] + lin_fit[1] - filt_param[2][2]*scale\n",
    "#         condition = cond_lin_high & cond_lin_low\n",
    "#     if np.logical_and(filt_param[3][0],'run_'+str(filt_param[3][1])==getattr(raw_data,'scan_name')):\n",
    "#         plt.figure()\n",
    "#         plt.scatter(var_x[bounds_conds],var_y[bounds_conds],alpha=0.95)\n",
    "#         plt.scatter(var_x[np.logical_and(bounds_conds,condition)],var_y[np.logical_and(bounds_conds,condition)],alpha=0.05)\n",
    "#         plt.title(filt_param[1]+' '+filt_param[2][0] +' vs '+ filt_param[2][1])\n",
    "#         plt.show()\n",
    "\n"
   ]
  },
  {
   "cell_type": "code",
   "execution_count": null,
   "metadata": {},
   "outputs": [],
   "source": [
    "# s = True\n",
    "# t=np.bool_()\n",
    "type(np.bool_(True))==type(np.bool_(True))\n"
   ]
  }
 ],
 "metadata": {
  "kernelspec": {
   "display_name": "LCLS-I py3",
   "language": "python",
   "name": "ana1-current-py3"
  },
  "language_info": {
   "codemirror_mode": {
    "name": "ipython",
    "version": 3
   },
   "file_extension": ".py",
   "mimetype": "text/x-python",
   "name": "python",
   "nbconvert_exporter": "python",
   "pygments_lexer": "ipython3",
   "version": "3.7.10"
  }
 },
 "nbformat": 4,
 "nbformat_minor": 2
}
